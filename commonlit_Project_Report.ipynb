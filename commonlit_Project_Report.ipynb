{
 "cells": [
  {
   "cell_type": "markdown",
   "id": "f56b6e8b",
   "metadata": {},
   "source": [
    "# Table of Contents\n",
    "1. [Install Packages](#install-packages)\n",
    "2. [Variable Settings](#var-settings)\n",
    "3. [Kaggle Setup](#kaggle-setup)\n",
    "4. [Data Loading](#data-loading)\n",
    "5. [Exploratory Data Analysis (EDA)](#eda)\n",
    "6. [Preprocessing](#preprocessing)\n",
    "7. [Training](#training)\n",
    "8. [Inference](#inference)\n",
    "9. [Model Evaluation](#model-evaluation)\n"
   ]
  },
  {
   "cell_type": "markdown",
   "id": "f2657a83",
   "metadata": {},
   "source": [
    "# <p style=\"font-family:JetBrains Mono; font-weight:bold; letter-spacing: 2px; color:#243139; font-size:140%; text-align:left;padding: 0px; border-bottom: 3px solid #000000\"> <a name=\"install-packages\"></a>Install Packages</p>"
   ]
  },
  {
   "cell_type": "code",
   "execution_count": 2,
   "id": "261c8abe",
   "metadata": {},
   "outputs": [
    {
     "name": "stdout",
     "output_type": "stream",
     "text": [
      "Installing textstat: Success\n",
      "Installing nltk: Success\n",
      "Installing gensim: Success\n",
      "Installing pyLDAvis: Success\n",
      "Installing seaborn: Success\n",
      "Installing textblob: Success\n",
      "Installing spacy: Success\n",
      "Installing pyspellchecker: Success\n",
      "Installing keras_tuner: Success\n",
      "Installing tensorflow: Success\n",
      "Installing kaggle: Success\n",
      "Installing transformers: Success\n",
      "Installing datasets: Success\n",
      "Installing textstat: Success\n"
     ]
    }
   ],
   "source": [
    "# Install Packages\n",
    "import subprocess\n",
    "\n",
    "def install_package(package_name, extra_command=None):\n",
    "    \"\"\"\n",
    "    Install a Python package using pip and return 'Success' or 'Fail' message.\n",
    "    \n",
    "    Args:\n",
    "        package_name (str): The name of the package to install.\n",
    "        extra_command (str, optional): Extra commands to add to the pip install command.\n",
    "    \n",
    "    Returns:\n",
    "        str: 'Success' if the package was successfully installed, 'Fail' otherwise.\n",
    "    \"\"\"\n",
    "    try:\n",
    "        cmd = f\"pip install {package_name} {extra_command}\"\n",
    "        result = subprocess.run(cmd, stdout=subprocess.PIPE, stderr=subprocess.PIPE, shell=True, text=True)\n",
    "        if result.returncode == 0:\n",
    "            return 'Success'\n",
    "        else:\n",
    "            return 'Fail'\n",
    "    except Exception as e:\n",
    "        return 'Fail'\n",
    "\n",
    "packages_to_install = [\n",
    "    'textstat',\n",
    "    'nltk',\n",
    "    'gensim',\n",
    "    'pyLDAvis',\n",
    "    'seaborn',\n",
    "    'textblob',\n",
    "    'spacy',\n",
    "    'pyspellchecker',\n",
    "    'keras_tuner',\n",
    "    'tensorflow',\n",
    "    'kaggle',\n",
    "    'transformers',\n",
    "    'datasets',\n",
    "    'textstat',\n",
    "]\n",
    "\n",
    "for package in packages_to_install:\n",
    "    print(f\"Installing {package}: {install_package(package)}\")\n"
   ]
  },
  {
   "cell_type": "code",
   "execution_count": 14,
   "id": "3f6dd5e9",
   "metadata": {},
   "outputs": [
    {
     "name": "stderr",
     "output_type": "stream",
     "text": [
      "[nltk_data] Downloading package punkt to /home/jack/nltk_data...\n",
      "[nltk_data]   Package punkt is already up-to-date!\n",
      "[nltk_data] Downloading package stopwords to /home/jack/nltk_data...\n",
      "[nltk_data]   Package stopwords is already up-to-date!\n"
     ]
    }
   ],
   "source": [
    "import os\n",
    "import logging\n",
    "import pandas as pd\n",
    "import numpy as np\n",
    "import warnings\n",
    "warnings.filterwarnings('ignore')\n",
    "\n",
    "# Visualization\n",
    "import matplotlib.pyplot as plt\n",
    "import seaborn as sns\n",
    "\n",
    "# Natural Language Processing\n",
    "import nltk\n",
    "\n",
    "# Download NLTK data if not already downloaded\n",
    "nltk.download('punkt')\n",
    "nltk.download('averaged_perceptron_tagger')\n",
    "nltk.download('maxent_ne_chunker')\n",
    "nltk.download('words')\n",
    "nltk.download('stopwords')\n",
    "\n",
    "from nltk.corpus import stopwords, wordnet\n",
    "from nltk.tokenize import word_tokenize, sent_tokenize\n",
    "from nltk import pos_tag, ne_chunk\n",
    "from textblob import TextBlob\n",
    "# from textstat import flesch_reading_ease, smog_index\n",
    "import spacy\n",
    "from collections import Counter\n",
    "from gensim import corpora, models\n",
    "import pyLDAvis.gensim as gen\n",
    "import pyLDAvis\n",
    "import re\n",
    "\n",
    "# Machine Learning & Data Preprocessing\n",
    "from sklearn.preprocessing import StandardScaler, MinMaxScaler\n",
    "from sklearn.model_selection import train_test_split\n",
    "from sklearn.feature_extraction.text import TfidfVectorizer\n",
    "from sklearn.metrics.pairwise import cosine_similarity\n",
    "\n",
    "# Deep Learning\n",
    "import tensorflow as tf\n",
    "from tensorflow.keras import layers\n",
    "from tensorflow.keras.preprocessing.text import Tokenizer\n",
    "from tensorflow.keras.preprocessing.sequence import pad_sequences\n",
    "\n",
    "# Gensim\n",
    "from gensim.models import Word2Vec, KeyedVectors\n",
    "\n",
    "# Progress bar\n",
    "from tqdm import tqdm\n",
    "\n",
    "# Keras Tuner\n",
    "import keras_tuner as kt\n",
    "from keras_tuner.tuners import RandomSearch\n",
    "\n",
    "# Setting logging levels and environment variables\n",
    "tf.get_logger().setLevel(logging.ERROR)\n",
    "os.environ['TF_CPP_MIN_LOG_LEVEL'] = '3'\n",
    "\n",
    "from textstat import flesch_reading_ease\n"
   ]
  },
  {
   "cell_type": "markdown",
   "id": "b9467371",
   "metadata": {},
   "source": [
    "# <p style=\"font-family:JetBrains Mono; font-weight:bold; letter-spacing: 2px; color:#243139; font-size:140%; text-align:left;padding: 0px; border-bottom: 3px solid #000000\"> <a name=\"var-settings\"></a>Variable Settings</p>"
   ]
  },
  {
   "cell_type": "code",
   "execution_count": 3,
   "id": "5cc2c4f6",
   "metadata": {},
   "outputs": [],
   "source": [
    "# Variable Settings\n",
    "competition_name = \"commonlit-evaluate-student-summaries\"\n"
   ]
  },
  {
   "cell_type": "markdown",
   "id": "29eb8c9c",
   "metadata": {},
   "source": [
    "# <p style=\"font-family:JetBrains Mono; font-weight:bold; letter-spacing: 2px; color:#243139; font-size:140%; text-align:left;padding: 0px; border-bottom: 3px solid #000000\"> <a name=\"kaggle-setup\"></a>Kaggle Setup</p>"
   ]
  },
  {
   "cell_type": "code",
   "execution_count": 9,
   "id": "4eaf51bf",
   "metadata": {},
   "outputs": [
    {
     "name": "stdout",
     "output_type": "stream",
     "text": [
      "commonlit-evaluate-student-summaries.zip: Skipping, found more recently modified local copy (use --force to force download)\n",
      "Inflating successful.\n"
     ]
    }
   ],
   "source": [
    "import os\n",
    "\n",
    "def download_dataset():\n",
    "    \"\"\"\n",
    "    Download a dataset from Kaggle.\n",
    "    \"\"\"\n",
    "    # Download the dataset\n",
    "    os.system(f'kaggle competitions download -c {competition_name}')\n",
    "\n",
    "def unzip_dataset():\n",
    "    \"\"\"\n",
    "    Unzip the dataset and display a message indicating success or failure.\n",
    "    \"\"\"\n",
    "    # List all files in the current directory\n",
    "    files = os.listdir()\n",
    "\n",
    "    # Find the first zip file in the directory\n",
    "    zip_file = next((file for file in files if file.endswith('.zip')), None)\n",
    "\n",
    "    if zip_file is None:\n",
    "        print(\"No zip file found in the current directory.\")\n",
    "        return\n",
    "\n",
    "    # Unzip the dataset while suppressing output\n",
    "    if os.system(f'unzip {zip_file} > /dev/null 2>&1') == 0:\n",
    "        print(\"Inflating successful.\")\n",
    "    else:\n",
    "        print(\"Inflating failed.\")\n",
    "\n",
    "if __name__ == \"__main__\":\n",
    "    download_dataset()\n",
    "    unzip_dataset()\n"
   ]
  },
  {
   "cell_type": "markdown",
   "id": "9158a226",
   "metadata": {},
   "source": [
    "# <p style=\"font-family:JetBrains Mono; font-weight:bold; letter-spacing: 2px; color:#243139; font-size:140%; text-align:left;padding: 0px; border-bottom: 3px solid #000000\"> <a name=\"data-loading\"></a>Data Loading</p>"
   ]
  },
  {
   "cell_type": "code",
   "execution_count": 12,
   "id": "1aef0503",
   "metadata": {},
   "outputs": [
    {
     "name": "stdout",
     "output_type": "stream",
     "text": [
      "length of summaries_train: 7165\n",
      "length of prompts_train: 4 \n",
      "\n",
      "length of summaries_test: 4\n",
      "length of prompts_test: 2\n",
      "length of sample_submission: 4\n"
     ]
    }
   ],
   "source": [
    "# Data Loading\n",
    "# Placeholder for data loading code\n",
    "summaries_train = pd.read_csv('/home/jack/github/CommonLit/summaries_train.csv')\n",
    "prompts_train = pd.read_csv('/home/jack/github/CommonLit/prompts_train.csv')\n",
    "print('length of summaries_train:', len(summaries_train))\n",
    "print('length of prompts_train:',len(prompts_train),'\\n')\n",
    "\n",
    "summaries_test = pd.read_csv('/home/jack/github/CommonLit/summaries_test.csv')\n",
    "prompts_test = pd.read_csv('/home/jack/github/CommonLit/prompts_test.csv')\n",
    "sample_submission = pd.read_csv('/home/jack/github/CommonLit/sample_submission.csv')\n",
    "print('length of summaries_test:', len(summaries_test))\n",
    "print('length of prompts_test:',len(prompts_test))\n",
    "print('length of sample_submission:',len(sample_submission))"
   ]
  },
  {
   "cell_type": "markdown",
   "id": "1a2998d9",
   "metadata": {},
   "source": [
    "# <p style=\"font-family:JetBrains Mono; font-weight:bold; letter-spacing: 2px; color:#243139; font-size:140%; text-align:left;padding: 0px; border-bottom: 3px solid #000000\"> <a name=\"eda\"></a>Exploratory Data Analysis (EDA)</p>"
   ]
  },
  {
   "cell_type": "code",
   "execution_count": 16,
   "id": "a68f4d83",
   "metadata": {},
   "outputs": [
    {
     "name": "stdout",
     "output_type": "stream",
     "text": [
      "Preprocessing text in summaries...\n"
     ]
    },
    {
     "name": "stderr",
     "output_type": "stream",
     "text": [
      "                                                               \r"
     ]
    },
    {
     "name": "stdout",
     "output_type": "stream",
     "text": [
      "Preprocessing text in prompts...\n"
     ]
    },
    {
     "name": "stderr",
     "output_type": "stream",
     "text": [
      "                                                       \r"
     ]
    },
    {
     "name": "stdout",
     "output_type": "stream",
     "text": [
      "Performing topic modeling on summaries...\n"
     ]
    },
    {
     "name": "stderr",
     "output_type": "stream",
     "text": [
      "                                                         \r"
     ]
    },
    {
     "name": "stdout",
     "output_type": "stream",
     "text": [
      "Performing topic modeling on prompts...\n"
     ]
    },
    {
     "name": "stderr",
     "output_type": "stream",
     "text": [
      "                                                      "
     ]
    },
    {
     "name": "stdout",
     "output_type": "stream",
     "text": [
      "Performing sentiment analysis on summaries...\n"
     ]
    },
    {
     "name": "stderr",
     "output_type": "stream",
     "text": [
      "\r"
     ]
    },
    {
     "name": "stdout",
     "output_type": "stream",
     "text": [
      "Performing sentiment analysis on prompts...\n",
      "Calculating text complexity for summaries...\n",
      "Calculating text complexity for prompts...\n"
     ]
    }
   ],
   "source": [
    "# Exploratory Data Analysis (EDA)\n",
    "warnings.filterwarnings('ignore', category=UserWarning, module='scipy')\n",
    "\n",
    "# Initialize stopwords\n",
    "stop_words = set(stopwords.words('english'))\n",
    "\n",
    "from math import ceil\n",
    "\n",
    "def preprocess(texts, batch_size=1000):\n",
    "    \"\"\"\n",
    "    Preprocesses a given series of texts by tokenizing, converting to lowercase,\n",
    "    and removing stopwords and non-alphanumeric words. Uses batching to avoid IOPub message rate exceeded error.\n",
    "    \n",
    "    Args:\n",
    "        texts (pd.Series): Series of texts to preprocess.\n",
    "        batch_size (int): Number of documents to process in each batch.\n",
    "        \n",
    "    Returns:\n",
    "        pd.Series: Preprocessed texts.\n",
    "    \"\"\"\n",
    "    # Calculate the number of batches\n",
    "    num_batches = ceil(len(texts) / batch_size)\n",
    "    \n",
    "    # Initialize an empty list to hold the preprocessed texts\n",
    "    preprocessed_texts = []\n",
    "    \n",
    "    for i in tqdm(range(num_batches), desc='Batch Processing', leave=False):\n",
    "        # Extract the texts for the current batch\n",
    "        start_idx = i * batch_size\n",
    "        end_idx = (i + 1) * batch_size\n",
    "        batch_texts = texts.iloc[start_idx:end_idx]\n",
    "        \n",
    "        # Preprocess the texts in the current batch\n",
    "        preprocessed_batch = batch_texts.apply(lambda x: [word for word in word_tokenize(x.lower()) if word.isalnum() and word not in stop_words])\n",
    "        \n",
    "        # Append the preprocessed texts to the list\n",
    "        preprocessed_texts.extend(preprocessed_batch)\n",
    "        \n",
    "    return pd.Series(preprocessed_texts)\n",
    "\n",
    "\n",
    "def topic_modeling(texts, num_topics=5):\n",
    "    \"\"\"\n",
    "    Perform topic modeling using LDA.\n",
    "    \"\"\"\n",
    "    dictionary = corpora.Dictionary(texts)\n",
    "    corpus = [dictionary.doc2bow(text) for text in tqdm(texts, desc='Creating corpus', leave=False)]\n",
    "    lda_model = models.LdaModel(corpus, num_topics=num_topics, id2word=dictionary, passes=15)\n",
    "    lda_display = gen.prepare(lda_model, corpus, dictionary)\n",
    "    return lda_display\n",
    "\n",
    "def sentiment_analysis(texts):\n",
    "    \"\"\"\n",
    "    Perform sentiment analysis on the text using TextBlob.\n",
    "    \"\"\"\n",
    "    return texts.apply(lambda x: TextBlob(x).sentiment.polarity)\n",
    "\n",
    "def text_complexity(texts):\n",
    "    \"\"\"\n",
    "    Calculate the Flesch Reading Ease score of the text using textstat.\n",
    "    \"\"\"\n",
    "    return texts.apply(lambda x: flesch_reading_ease(x))\n",
    "\n",
    "\n",
    "# Preprocess the text in the summaries and prompts\n",
    "print(\"Preprocessing text in summaries...\")\n",
    "summaries_processed = preprocess(summaries_train['text'])\n",
    "print(\"Preprocessing text in prompts...\")\n",
    "prompts_processed = preprocess(prompts_train['prompt_text'])\n",
    "\n",
    "# Perform topic modeling on both summaries and prompts\n",
    "print(\"Performing topic modeling on summaries...\")\n",
    "lda_display_summaries = topic_modeling(summaries_processed)\n",
    "print(\"Performing topic modeling on prompts...\")\n",
    "lda_display_prompts = topic_modeling(prompts_processed)\n",
    "\n",
    "# Perform sentiment analysis on summaries and prompts\n",
    "print(\"Performing sentiment analysis on summaries...\")\n",
    "summaries_train['sentiment'] = sentiment_analysis(summaries_train['text'])\n",
    "print(\"Performing sentiment analysis on prompts...\")\n",
    "prompts_train['sentiment'] = sentiment_analysis(prompts_train['prompt_text'])\n",
    "\n",
    "# Calculate text complexity for summaries and prompts\n",
    "print(\"Calculating text complexity for summaries...\")\n",
    "summaries_train['flesch_score'] = text_complexity(summaries_train['text'])\n",
    "print(\"Calculating text complexity for prompts...\")\n",
    "prompts_train['flesch_score'] = text_complexity(prompts_train['prompt_text'])\n"
   ]
  },
  {
   "cell_type": "code",
   "execution_count": 19,
   "id": "db98a236",
   "metadata": {},
   "outputs": [
    {
     "name": "stdout",
     "output_type": "stream",
     "text": [
      "\n",
      " Preparing Visualizations.....\n"
     ]
    },
    {
     "data": {
      "image/png": "[encoded data removed]",
      "text/plain": [
       "<Figure size 640x480 with 1 Axes>"
      ]
     },
     "metadata": {},
     "output_type": "display_data"
    }
   ],
   "source": [
    "print('\\n Preparing Visualizations.....')\n",
    "\n",
    "# Visualize sentiment and text complexity using histograms\n",
    "sns.histplot(summaries_train['sentiment']).set_title('Sentiment Distribution in Summaries')\n",
    "plt.show()"
   ]
  },
  {
   "cell_type": "code",
   "execution_count": 20,
   "id": "72df23d3",
   "metadata": {},
   "outputs": [
    {
     "name": "stdout",
     "output_type": "stream",
     "text": [
      "\n",
      " Preparing Visualizations.....\n"
     ]
    },
    {
     "data": {
      "image/png": "[encoded data removed]",
      "text/plain": [
       "<Figure size 640x480 with 1 Axes>"
      ]
     },
     "metadata": {},
     "output_type": "display_data"
    }
   ],
   "source": [
    "print('\\n Preparing Visualizations.....')\n",
    "\n",
    "sns.histplot(prompts_train['sentiment']).set_title('Sentiment Distribution in Prompts')\n",
    "plt.show()"
   ]
  },
  {
   "cell_type": "code",
   "execution_count": 21,
   "id": "81440361",
   "metadata": {},
   "outputs": [
    {
     "name": "stdout",
     "output_type": "stream",
     "text": [
      "\n",
      " Preparing Visualizations.....\n"
     ]
    },
    {
     "data": {
      "image/png": "[encoded data removed]",
      "text/plain": [
       "<Figure size 640x480 with 1 Axes>"
      ]
     },
     "metadata": {},
     "output_type": "display_data"
    }
   ],
   "source": [
    "print('\\n Preparing Visualizations.....')\n",
    "\n",
    "sns.histplot(summaries_train['flesch_score']).set_title('Flesch Reading Ease Score Distribution in Summaries')\n",
    "plt.show()\n"
   ]
  },
  {
   "cell_type": "code",
   "execution_count": 22,
   "id": "81e159e2",
   "metadata": {},
   "outputs": [
    {
     "name": "stdout",
     "output_type": "stream",
     "text": [
      "\n",
      " Preparing Visualizations.....\n"
     ]
    },
    {
     "data": {
      "image/png": "[encoded data removed]",
      "text/plain": [
       "<Figure size 640x480 with 1 Axes>"
      ]
     },
     "metadata": {},
     "output_type": "display_data"
    }
   ],
   "source": [
    "print('\\n Preparing Visualizations.....')\n",
    "\n",
    "sns.histplot(prompts_train['flesch_score']).set_title('Flesch Reading Ease Score Distribution in Prompts')\n",
    "plt.show()"
   ]
  },
  {
   "cell_type": "code",
   "execution_count": 24,
   "id": "ba6ff060",
   "metadata": {},
   "outputs": [
    {
     "name": "stdout",
     "output_type": "stream",
     "text": [
      "\n",
      " Preparing Visualizations.....\n"
     ]
    },
    {
     "data": {
      "image/png": "[encoded data removed]",
      "text/plain": [
       "<Figure size 1000x600 with 1 Axes>"
      ]
     },
     "metadata": {},
     "output_type": "display_data"
    }
   ],
   "source": [
    "# Named Entity Recognition (Limiting to first 100 rows for demonstration)\n",
    "nlp = spacy.load(\"en_core_web_sm\")\n",
    "texts_summaries = ' '.join(summaries_train['text'][:100])\n",
    "texts_prompts = ' '.join(prompts_train['prompt_text'][:100])\n",
    "doc_summaries = nlp(texts_summaries)\n",
    "doc_prompts = nlp(texts_prompts)\n",
    "\n",
    "print('\\n Preparing Visualizations.....')\n",
    "\n",
    "# Count the frequencies of named entity types in summaries and prompts\n",
    "entity_freq_summaries = Counter([ent.label_ for ent in doc_summaries.ents])\n",
    "entity_freq_prompts = Counter([ent.label_ for ent in doc_prompts.ents])\n",
    "\n",
    "# Visualize named entity frequencies\n",
    "plt.figure(figsize=(10, 6))\n",
    "plt.bar(entity_freq_summaries.keys(), entity_freq_summaries.values())\n",
    "plt.title('Named Entity Frequency in Summaries')\n",
    "plt.xticks(rotation=45)\n",
    "plt.show()"
   ]
  },
  {
   "cell_type": "code",
   "execution_count": 25,
   "id": "83914a0d",
   "metadata": {},
   "outputs": [
    {
     "name": "stdout",
     "output_type": "stream",
     "text": [
      "\n",
      " Preparing Visualizations.....\n"
     ]
    },
    {
     "data": {
      "image/png": "[encoded data removed]",
      "text/plain": [
       "<Figure size 1000x600 with 1 Axes>"
      ]
     },
     "metadata": {},
     "output_type": "display_data"
    }
   ],
   "source": [
    "print('\\n Preparing Visualizations.....')\n",
    "\n",
    "plt.figure(figsize=(10, 6))\n",
    "plt.bar(entity_freq_prompts.keys(), entity_freq_prompts.values())\n",
    "plt.title('Named Entity Frequency in Prompts')\n",
    "plt.xticks(rotation=45)\n",
    "plt.show()"
   ]
  },
  {
   "cell_type": "code",
   "execution_count": 26,
   "id": "c52a6096",
   "metadata": {},
   "outputs": [
    {
     "name": "stdout",
     "output_type": "stream",
     "text": [
      "length of summaries_train: 7165\n",
      "length of prompts_train: 4 \n",
      "\n",
      "length of summaries_test: 4\n",
      "length of prompts_test: 2\n",
      "length of sample_submission: 4\n"
     ]
    }
   ],
   "source": [
    "# Data Loading\n",
    "# Placeholder for data loading code\n",
    "summaries_train = pd.read_csv('/home/jack/github/CommonLit/summaries_train.csv')\n",
    "prompts_train = pd.read_csv('/home/jack/github/CommonLit/prompts_train.csv')\n",
    "print('length of summaries_train:', len(summaries_train))\n",
    "print('length of prompts_train:',len(prompts_train),'\\n')\n",
    "\n",
    "summaries_test = pd.read_csv('/home/jack/github/CommonLit/summaries_test.csv')\n",
    "prompts_test = pd.read_csv('/home/jack/github/CommonLit/prompts_test.csv')\n",
    "sample_submission = pd.read_csv('/home/jack/github/CommonLit/sample_submission.csv')\n",
    "print('length of summaries_test:', len(summaries_test))\n",
    "print('length of prompts_test:',len(prompts_test))\n",
    "print('length of sample_submission:',len(sample_submission))"
   ]
  },
  {
   "cell_type": "markdown",
   "id": "f56750a2",
   "metadata": {},
   "source": [
    "# <p style=\"font-family:JetBrains Mono; font-weight:bold; letter-spacing: 2px; color:#243139; font-size:140%; text-align:left;padding: 0px; border-bottom: 3px solid #000000\"> <a name=\"preprocessing\"></a>Preprocessing</p>"
   ]
  },
  {
   "cell_type": "code",
   "execution_count": 27,
   "id": "53b9ec5d",
   "metadata": {},
   "outputs": [],
   "source": [
    "# Preprocessing\n",
    "import numpy as np\n",
    "import pandas as pd\n",
    "import operator\n",
    "from spellchecker import SpellChecker\n",
    "from tqdm import tqdm  # Import tqdm\n",
    "\n",
    "def clean_text(df, glove_path, paragram_path, wiki_news_path, col_name = 'text'):\n",
    "    \"\"\"\n",
    "    Preprocesses text for both training and testing datasets. \n",
    "    Includes loading embeddings, building vocabularies, cleaning text among other things.\n",
    "    \n",
    "    :param summaries_train: DataFrame with the training data\n",
    "    :param summaries_test: DataFrame with the testing data\n",
    "    :param glove_path: path to the GloVe embedding\n",
    "    :param paragram_path: path to the Paragram embedding\n",
    "    :param wiki_news_path: path to the Wiki News embedding\n",
    "    \n",
    "    :return: Preprocessed DataFrame and list of out-of-vocab words\n",
    "    \"\"\"\n",
    "    print(\"Starting text cleaning process.\")\n",
    "    \n",
    "    def load_embed(file):\n",
    "        \"\"\"\n",
    "        Load the embeddings from a file.\n",
    "        \"\"\"\n",
    "        print(f\"Loading embeddings from {file}\")\n",
    "        \n",
    "        def get_coefs(word, *arr): \n",
    "            return word, np.asarray(arr, dtype='float32')\n",
    "        \n",
    "        if file == wiki_news_path:\n",
    "            embeddings_index = dict(get_coefs(*o.split(\" \")) for o in tqdm(open(file), \"Reading Embedding File\") if len(o)>100)\n",
    "        else:\n",
    "            embeddings_index = dict(get_coefs(*o.split(\" \")) for o in tqdm(open(file, encoding='latin'), \"Reading Embedding File\"))\n",
    "        \n",
    "        print(f\"Loaded embeddings from {file}\")\n",
    "        return embeddings_index\n",
    "\n",
    "    # Load embeddings\n",
    "    print(\"Loading all embeddings.\")\n",
    "    embed_glove = load_embed(glove_path)\n",
    "    embed_paragram = load_embed(paragram_path)\n",
    "    embed_fasttext = load_embed(wiki_news_path)\n",
    "    print(\"All embeddings loaded.\")\n",
    "    \n",
    "    def build_vocab(texts):\n",
    "        \"\"\"\n",
    "        Build a vocabulary from a given list of texts.\n",
    "        \"\"\"\n",
    "        print(\"Building vocabulary.\")\n",
    "        sentences = texts.apply(lambda x: x.split()).values\n",
    "        vocab = {}\n",
    "        for sentence in tqdm(sentences, \"Populating Vocabulary\"):\n",
    "            for word in sentence:\n",
    "                try:\n",
    "                    vocab[word] += 1\n",
    "                except KeyError:\n",
    "                    vocab[word] = 1\n",
    "        print(\"Vocabulary built.\")\n",
    "        return vocab\n",
    "\n",
    "    def check_coverage(vocab, embeddings_index):\n",
    "        \"\"\"\n",
    "        Check which words in the vocabulary are covered by the embeddings.\n",
    "        \"\"\"\n",
    "        print(\"Checking coverage.\")\n",
    "        known_words = {}\n",
    "        unknown_words = {}\n",
    "        nb_known_words = 0\n",
    "        nb_unknown_words = 0\n",
    "        for word in tqdm(vocab.keys(), \"Checking Words\"):\n",
    "            try:\n",
    "                known_words[word] = embeddings_index[word]\n",
    "                nb_known_words += vocab[word]\n",
    "            except:\n",
    "                unknown_words[word] = vocab[word]\n",
    "                nb_unknown_words += vocab[word]\n",
    "                pass\n",
    "        unknown_words = sorted(unknown_words.items(), key=operator.itemgetter(1))[::-1]\n",
    "        print(\"Coverage checked.\")\n",
    "        return unknown_words\n",
    "\n",
    "    # Build and check vocab for train and test datasets\n",
    "    print(\"Processing train and test datasets.\")\n",
    "    \n",
    "    vocab_train = build_vocab(df[col_name])\n",
    "    \n",
    "    oov_glove_train = check_coverage(vocab_train, embed_glove)\n",
    "    oov_paragram_train = check_coverage(vocab_train, embed_paragram)\n",
    "    oov_fasttext_train = check_coverage(vocab_train, embed_fasttext)\n",
    "  \n",
    "    print(\"Processed train and test datasets.\")\n",
    "    \n",
    "    # Lowercase all texts\n",
    "    df['lowered_question'] = df[col_name].apply(lambda x: x.lower())\n",
    "    \n",
    "    train_vocab_low = build_vocab(df['lowered_question'])\n",
    "    \n",
    "    oov_glove_train = check_coverage(train_vocab_low, embed_glove)\n",
    "    oov_paragram_train = check_coverage(train_vocab_low, embed_paragram)\n",
    "    oov_fasttext_train = check_coverage(train_vocab_low, embed_fasttext)\n",
    " \n",
    "    \n",
    "    def add_lower(embedding, vocab):\n",
    "        count = 0\n",
    "        for word in vocab:\n",
    "            if word in embedding and word.lower() not in embedding:  \n",
    "                embedding[word.lower()] = embedding[word]\n",
    "                count += 1\n",
    "    \n",
    "    add_lower(embed_glove, train_vocab_low)\n",
    "    add_lower(embed_paragram, train_vocab_low)\n",
    "    add_lower(embed_fasttext, train_vocab_low)\n",
    "   \n",
    "    \n",
    "    # Handle contractions\n",
    "    contraction_mapping = {\"ain't\": \"is not\", \"aren't\": \"are not\",\"can't\": \"cannot\", \"'cause\": \"because\", \"could've\": \"could have\", \"couldn't\": \"could not\", \n",
    "                           \"didn't\": \"did not\",  \"doesn't\": \"does not\", \"don't\": \"do not\", \"hadn't\": \"had not\", \"hasn't\": \"has not\", \"haven't\": \"have not\", \n",
    "                           \"he'd\": \"he would\",\"he'll\": \"he will\", \"he's\": \"he is\", \"how'd\": \"how did\", \"how'd'y\": \"how do you\", \"how'll\": \"how will\", \"how's\": \"how is\",  \n",
    "                           \"I'd\": \"I would\", \"I'd've\": \"I would have\", \"I'll\": \"I will\", \"I'll've\": \"I will have\",\"I'm\": \"I am\", \"I've\": \"I have\", \"i'd\": \"i would\", \n",
    "                           \"i'd've\": \"i would have\", \"i'll\": \"i will\",  \"i'll've\": \"i will have\",\"i'm\": \"i am\", \"i've\": \"i have\", \"isn't\": \"is not\", \"it'd\": \"it would\", \n",
    "                           \"it'd've\": \"it would have\", \"it'll\": \"it will\", \"it'll've\": \"it will have\",\"it's\": \"it is\", \"let's\": \"let us\", \"ma'am\": \"madam\", \n",
    "                           \"mayn't\": \"may not\", \"might've\": \"might have\",\"mightn't\": \"might not\",\"mightn't've\": \"might not have\", \"must've\": \"must have\", \n",
    "                           \"mustn't\": \"must not\", \"mustn't've\": \"must not have\", \"needn't\": \"need not\", \"needn't've\": \"need not have\",\"o'clock\": \"of the clock\", \n",
    "                           \"oughtn't\": \"ought not\", \"oughtn't've\": \"ought not have\", \"shan't\": \"shall not\", \"sha'n't\": \"shall not\", \"shan't've\": \"shall not have\", \n",
    "                           \"she'd\": \"she would\", \"she'd've\": \"she would have\", \"she'll\": \"she will\", \"she'll've\": \"she will have\", \"she's\": \"she is\", \n",
    "                           \"should've\": \"should have\", \"shouldn't\": \"should not\", \"shouldn't've\": \"should not have\", \"so've\": \"so have\",\"so's\": \"so as\", \n",
    "                           \"this's\": \"this is\",\"that'd\": \"that would\", \"that'd've\": \"that would have\", \"that's\": \"that is\", \"there'd\": \"there would\", \n",
    "                           \"there'd've\": \"there would have\", \"there's\": \"there is\", \"here's\": \"here is\",\"they'd\": \"they would\", \"they'd've\": \"they would have\", \n",
    "                           \"they'll\": \"they will\", \"they'll've\": \"they will have\", \"they're\": \"they are\", \"they've\": \"they have\", \"to've\": \"to have\", \n",
    "                           \"wasn't\": \"was not\", \"we'd\": \"we would\", \"we'd've\": \"we would have\", \"we'll\": \"we will\", \"we'll've\": \"we will have\", \"we're\": \"we are\", \n",
    "                           \"we've\": \"we have\", \"weren't\": \"were not\", \"what'll\": \"what will\", \"what'll've\": \"what will have\", \"what're\": \"what are\",  \"what's\": \"what is\",\n",
    "                           \"what've\": \"what have\", \"when's\": \"when is\", \"when've\": \"when have\", \"where'd\": \"where did\", \"where's\": \"where is\", \"where've\": \"where have\",\n",
    "                           \"who'll\": \"who will\", \"who'll've\": \"who will have\", \"who's\": \"who is\", \"who've\": \"who have\", \"why's\": \"why is\", \"why've\": \"why have\", \n",
    "                           \"will've\": \"will have\", \"won't\": \"will not\", \"won't've\": \"will not have\", \"would've\": \"would have\", \"wouldn't\": \"would not\", \n",
    "                           \"wouldn't've\": \"would not have\", \"y'all\": \"you all\", \"y'all'd\": \"you all would\",\"y'all'd've\": \"you all would have\",\"y'all're\": \"you all are\",\n",
    "                           \"y'all've\": \"you all have\",\"you'd\": \"you would\", \"you'd've\": \"you would have\", \"you'll\": \"you will\", \"you'll've\": \"you will have\", \n",
    "                           \"you're\": \"you are\", \"you've\": \"you have\" }\n",
    "    \n",
    "    \n",
    "    def clean_contractions(text, mapping):\n",
    "        \"\"\"\n",
    "        Replace contractions in the text based on a given mapping.\n",
    "        \n",
    "        :param text: The original text\n",
    "        :param mapping: Dictionary containing contractions mapping\n",
    "        \n",
    "        :return: Text with contractions replaced\n",
    "        \"\"\"\n",
    "        \n",
    "        specials = [\"’\", \"‘\", \"´\", \"`\"]\n",
    "        \n",
    "        for s in specials:\n",
    "            text = text.replace(s, \"'\")\n",
    "        text = ' '.join([mapping[t] if t in mapping else t for t in text.split(\" \")])\n",
    "        return text\n",
    "\n",
    "    # Apply contraction cleaning to train and test datasets\n",
    "    df['cleaned_text'] = df['lowered_question'].apply(lambda x: clean_contractions(x, contraction_mapping))\n",
    "    \n",
    "    # Rebuild and check vocab after cleaning contractions\n",
    "    vocab_train_clean = build_vocab(df['cleaned_text'])\n",
    "    \n",
    "    oov_glove_train = check_coverage(vocab_train_clean, embed_glove)\n",
    "    oov_paragram_train = check_coverage(vocab_train_clean, embed_paragram)\n",
    "    oov_fasttext_train = check_coverage(vocab_train_clean, embed_fasttext)\n",
    "    \n",
    "     # Add your additional code for punctuations, special characters and spelling correction here\n",
    "        \n",
    "    punct = \"/-'?!.,#$%\\'()*+-/:;<=>@[\\\\]^_`{|}~\" + '\"\"“”’' + '∞θ÷α•à−β∅³π‘₹´°£€\\×™√²—–&'\n",
    "    \n",
    "    punct_mapping = {\"‘\": \"'\", \"₹\": \"e\", \"´\": \"'\", \"°\": \"\", \"€\": \"e\", \"™\": \"tm\", \"√\": \" sqrt \", \"×\": \"x\", \"²\": \"2\", \"—\": \"-\", \"–\": \"-\", \"’\": \"'\", \"_\": \"-\",\n",
    "                     \"`\": \"'\", '“': '\"', '”': '\"', '“': '\"', \"£\": \"e\", '∞': 'infinity', 'θ': 'theta', '÷': '/', 'α': 'alpha', '•': '.', 'à': 'a', '−': '-', \n",
    "                     'β': 'beta', '∅': '', '³': '3', 'π': 'pi', }\n",
    "\n",
    "    def clean_special_chars(text, punct, mapping):\n",
    "        for p in mapping:\n",
    "            text = text.replace(p, mapping[p])\n",
    "        for p in punct:\n",
    "            text = text.replace(p, f' {p} ')\n",
    "        specials = {'\\u200b': ' ', '…': ' ... ', '\\ufeff': '', 'करना': '', 'है': ''}  \n",
    "        for s in specials:\n",
    "            text = text.replace(s, specials[s])\n",
    "        return text\n",
    "\n",
    "    df['treated_question'] = df['cleaned_text'].apply(lambda x: clean_special_chars(x, punct, punct_mapping))\n",
    "\n",
    "    # Spell correction\n",
    "    misspelled_words = [word for word, count in oov_fasttext_train]\n",
    "\n",
    "    def spell_check_list_of_words(word_list):\n",
    "        spell = SpellChecker()\n",
    "        corrected_dict = {}\n",
    "        for word in word_list:\n",
    "            corrected_word = spell.correction(word)\n",
    "            corrected_dict[word] = corrected_word\n",
    "        return corrected_dict\n",
    "\n",
    "    mispell_dict_train = spell_check_list_of_words(misspelled_words)\n",
    "\n",
    "    def correct_spelling(x, dic):\n",
    "        if not dic:\n",
    "            return x\n",
    "        pattern = r'\\b(' + '|'.join(re.escape(key) for key in dic.keys()) + r')\\b'\n",
    "        return re.sub(pattern, lambda m: dic[m.group(0)], x, flags=re.IGNORECASE)\n",
    "\n",
    "    df['treated_question'] = df['treated_question'].apply(lambda x: correct_spelling(x, mispell_dict_train))\n",
    "    \n",
    "    # Rebuild and check vocab after cleaning contractions\n",
    "    vocab_train_clean = build_vocab(df['treated_question'])\n",
    "    \n",
    "    oov_glove_train = check_coverage(vocab_train_clean, embed_glove)\n",
    "    oov_paragram_train = check_coverage(vocab_train_clean, embed_paragram)\n",
    "    oov_fasttext_train = check_coverage(vocab_train_clean, embed_fasttext)\n",
    "\n",
    "\n",
    "    return df, oov_glove_train, oov_paragram_train, oov_fasttext_train"
   ]
  },
  {
   "cell_type": "code",
   "execution_count": 37,
   "id": "0b18b5e8",
   "metadata": {},
   "outputs": [],
   "source": [
    "glove = '/home/jack/github/CommonLit/glove.6B.300d.txt'\n",
    "paragram =  '/home/jack/github/CommonLit/paragram_300_sl999.txt'\n",
    "wiki_news = '/home/jack/github/CommonLit/wiki-news-300d-1M.vec'"
   ]
  },
  {
   "cell_type": "code",
   "execution_count": 38,
   "id": "62cd6172",
   "metadata": {},
   "outputs": [
    {
     "name": "stdout",
     "output_type": "stream",
     "text": [
      "Starting text cleaning process.\n",
      "Loading all embeddings.\n",
      "Loading embeddings from /home/jack/github/CommonLit/glove.6B.300d.txt\n"
     ]
    },
    {
     "name": "stderr",
     "output_type": "stream",
     "text": [
      "Reading Embedding File: 400000it [00:10, 39713.37it/s]\n"
     ]
    },
    {
     "name": "stdout",
     "output_type": "stream",
     "text": [
      "Loaded embeddings from /home/jack/github/CommonLit/glove.6B.300d.txt\n",
      "Loading embeddings from /home/jack/github/CommonLit/paragram_300_sl999.txt\n"
     ]
    },
    {
     "name": "stderr",
     "output_type": "stream",
     "text": [
      "Reading Embedding File: 66199it [00:01, 36870.53it/s]\n"
     ]
    },
    {
     "name": "stdout",
     "output_type": "stream",
     "text": [
      "Loaded embeddings from /home/jack/github/CommonLit/paragram_300_sl999.txt\n",
      "Loading embeddings from /home/jack/github/CommonLit/wiki-news-300d-1M.vec\n"
     ]
    },
    {
     "name": "stderr",
     "output_type": "stream",
     "text": [
      "Reading Embedding File: 999995it [00:25, 38614.76it/s]\n"
     ]
    },
    {
     "name": "stdout",
     "output_type": "stream",
     "text": [
      "Loaded embeddings from /home/jack/github/CommonLit/wiki-news-300d-1M.vec\n",
      "All embeddings loaded.\n",
      "Processing train and test datasets.\n",
      "Building vocabulary.\n"
     ]
    },
    {
     "name": "stderr",
     "output_type": "stream",
     "text": [
      "Populating Vocabulary: 100%|██████████| 7165/7165 [00:00<00:00, 162512.78it/s]\n"
     ]
    },
    {
     "name": "stdout",
     "output_type": "stream",
     "text": [
      "Vocabulary built.\n",
      "Checking coverage.\n"
     ]
    },
    {
     "name": "stderr",
     "output_type": "stream",
     "text": [
      "Checking Words: 100%|██████████| 22410/22410 [00:00<00:00, 2012425.39it/s]\n"
     ]
    },
    {
     "name": "stdout",
     "output_type": "stream",
     "text": [
      "Coverage checked.\n",
      "Checking coverage.\n"
     ]
    },
    {
     "name": "stderr",
     "output_type": "stream",
     "text": [
      "Checking Words: 100%|██████████| 22410/22410 [00:00<00:00, 2579286.34it/s]\n"
     ]
    },
    {
     "name": "stdout",
     "output_type": "stream",
     "text": [
      "Coverage checked.\n",
      "Checking coverage.\n"
     ]
    },
    {
     "name": "stderr",
     "output_type": "stream",
     "text": [
      "Checking Words: 100%|██████████| 22410/22410 [00:00<00:00, 1796253.49it/s]\n"
     ]
    },
    {
     "name": "stdout",
     "output_type": "stream",
     "text": [
      "Coverage checked.\n",
      "Processed train and test datasets.\n",
      "Building vocabulary.\n"
     ]
    },
    {
     "name": "stderr",
     "output_type": "stream",
     "text": [
      "Populating Vocabulary: 100%|██████████| 7165/7165 [00:00<00:00, 159025.64it/s]\n"
     ]
    },
    {
     "name": "stdout",
     "output_type": "stream",
     "text": [
      "Vocabulary built.\n",
      "Checking coverage.\n"
     ]
    },
    {
     "name": "stderr",
     "output_type": "stream",
     "text": [
      "Checking Words: 100%|██████████| 21078/21078 [00:00<00:00, 1880691.37it/s]\n"
     ]
    },
    {
     "name": "stdout",
     "output_type": "stream",
     "text": [
      "Coverage checked.\n",
      "Checking coverage.\n"
     ]
    },
    {
     "name": "stderr",
     "output_type": "stream",
     "text": [
      "Checking Words: 100%|██████████| 21078/21078 [00:00<00:00, 2680884.85it/s]\n"
     ]
    },
    {
     "name": "stdout",
     "output_type": "stream",
     "text": [
      "Coverage checked.\n",
      "Checking coverage.\n"
     ]
    },
    {
     "name": "stderr",
     "output_type": "stream",
     "text": [
      "Checking Words: 100%|██████████| 21078/21078 [00:00<00:00, 1770700.60it/s]\n"
     ]
    },
    {
     "name": "stdout",
     "output_type": "stream",
     "text": [
      "Coverage checked.\n",
      "Building vocabulary.\n"
     ]
    },
    {
     "name": "stderr",
     "output_type": "stream",
     "text": [
      "Populating Vocabulary: 100%|██████████| 7165/7165 [00:00<00:00, 164164.89it/s]\n"
     ]
    },
    {
     "name": "stdout",
     "output_type": "stream",
     "text": [
      "Vocabulary built.\n",
      "Checking coverage.\n"
     ]
    },
    {
     "name": "stderr",
     "output_type": "stream",
     "text": [
      "Checking Words: 100%|██████████| 21004/21004 [00:00<00:00, 2055943.09it/s]\n"
     ]
    },
    {
     "name": "stdout",
     "output_type": "stream",
     "text": [
      "Coverage checked.\n",
      "Checking coverage.\n"
     ]
    },
    {
     "name": "stderr",
     "output_type": "stream",
     "text": [
      "Checking Words: 100%|██████████| 21004/21004 [00:00<00:00, 2681311.21it/s]\n"
     ]
    },
    {
     "name": "stdout",
     "output_type": "stream",
     "text": [
      "Coverage checked.\n",
      "Checking coverage.\n"
     ]
    },
    {
     "name": "stderr",
     "output_type": "stream",
     "text": [
      "Checking Words: 100%|██████████| 21004/21004 [00:00<00:00, 1924106.96it/s]\n"
     ]
    },
    {
     "name": "stdout",
     "output_type": "stream",
     "text": [
      "Coverage checked.\n",
      "Building vocabulary.\n"
     ]
    },
    {
     "name": "stderr",
     "output_type": "stream",
     "text": [
      "Populating Vocabulary: 100%|██████████| 7165/7165 [00:00<00:00, 156476.17it/s]\n"
     ]
    },
    {
     "name": "stdout",
     "output_type": "stream",
     "text": [
      "Vocabulary built.\n",
      "Checking coverage.\n"
     ]
    },
    {
     "name": "stderr",
     "output_type": "stream",
     "text": [
      "Checking Words: 100%|██████████| 9807/9807 [00:00<00:00, 1965760.54it/s]\n"
     ]
    },
    {
     "name": "stdout",
     "output_type": "stream",
     "text": [
      "Coverage checked.\n",
      "Checking coverage.\n"
     ]
    },
    {
     "name": "stderr",
     "output_type": "stream",
     "text": [
      "Checking Words: 100%|██████████| 9807/9807 [00:00<00:00, 2114834.93it/s]\n"
     ]
    },
    {
     "name": "stdout",
     "output_type": "stream",
     "text": [
      "Coverage checked.\n",
      "Checking coverage.\n"
     ]
    },
    {
     "name": "stderr",
     "output_type": "stream",
     "text": [
      "Checking Words: 100%|██████████| 9807/9807 [00:00<00:00, 1686906.96it/s]\n"
     ]
    },
    {
     "name": "stdout",
     "output_type": "stream",
     "text": [
      "Coverage checked.\n",
      "Starting text cleaning process.\n",
      "Loading all embeddings.\n",
      "Loading embeddings from /home/jack/github/CommonLit/glove.6B.300d.txt\n"
     ]
    },
    {
     "name": "stderr",
     "output_type": "stream",
     "text": [
      "Reading Embedding File: 400000it [00:09, 40108.99it/s]\n"
     ]
    },
    {
     "name": "stdout",
     "output_type": "stream",
     "text": [
      "Loaded embeddings from /home/jack/github/CommonLit/glove.6B.300d.txt\n",
      "Loading embeddings from /home/jack/github/CommonLit/paragram_300_sl999.txt\n"
     ]
    },
    {
     "name": "stderr",
     "output_type": "stream",
     "text": [
      "Reading Embedding File: 66199it [00:01, 36847.83it/s]\n"
     ]
    },
    {
     "name": "stdout",
     "output_type": "stream",
     "text": [
      "Loaded embeddings from /home/jack/github/CommonLit/paragram_300_sl999.txt\n",
      "Loading embeddings from /home/jack/github/CommonLit/wiki-news-300d-1M.vec\n"
     ]
    },
    {
     "name": "stderr",
     "output_type": "stream",
     "text": [
      "Reading Embedding File: 999995it [00:25, 39902.02it/s]\n"
     ]
    },
    {
     "name": "stdout",
     "output_type": "stream",
     "text": [
      "Loaded embeddings from /home/jack/github/CommonLit/wiki-news-300d-1M.vec\n",
      "All embeddings loaded.\n",
      "Processing train and test datasets.\n",
      "Building vocabulary.\n"
     ]
    },
    {
     "name": "stderr",
     "output_type": "stream",
     "text": [
      "Populating Vocabulary: 100%|██████████| 4/4 [00:00<00:00, 139810.13it/s]\n"
     ]
    },
    {
     "name": "stdout",
     "output_type": "stream",
     "text": [
      "Vocabulary built.\n",
      "Checking coverage.\n"
     ]
    },
    {
     "name": "stderr",
     "output_type": "stream",
     "text": [
      "Checking Words: 100%|██████████| 6/6 [00:00<00:00, 273541.57it/s]\n"
     ]
    },
    {
     "name": "stdout",
     "output_type": "stream",
     "text": [
      "Coverage checked.\n",
      "Checking coverage.\n"
     ]
    },
    {
     "name": "stderr",
     "output_type": "stream",
     "text": [
      "Checking Words: 100%|██████████| 6/6 [00:00<00:00, 326828.88it/s]\n"
     ]
    },
    {
     "name": "stdout",
     "output_type": "stream",
     "text": [
      "Coverage checked.\n",
      "Checking coverage.\n"
     ]
    },
    {
     "name": "stderr",
     "output_type": "stream",
     "text": [
      "Checking Words: 100%|██████████| 6/6 [00:00<00:00, 335544.32it/s]\n"
     ]
    },
    {
     "name": "stdout",
     "output_type": "stream",
     "text": [
      "Coverage checked.\n",
      "Processed train and test datasets.\n",
      "Building vocabulary.\n"
     ]
    },
    {
     "name": "stderr",
     "output_type": "stream",
     "text": [
      "Populating Vocabulary: 100%|██████████| 4/4 [00:00<00:00, 167772.16it/s]\n"
     ]
    },
    {
     "name": "stdout",
     "output_type": "stream",
     "text": [
      "Vocabulary built.\n",
      "Checking coverage.\n"
     ]
    },
    {
     "name": "stderr",
     "output_type": "stream",
     "text": [
      "Checking Words: 100%|██████████| 6/6 [00:00<00:00, 322638.77it/s]\n"
     ]
    },
    {
     "name": "stdout",
     "output_type": "stream",
     "text": [
      "Coverage checked.\n",
      "Checking coverage.\n"
     ]
    },
    {
     "name": "stderr",
     "output_type": "stream",
     "text": [
      "Checking Words: 100%|██████████| 6/6 [00:00<00:00, 370085.65it/s]\n"
     ]
    },
    {
     "name": "stdout",
     "output_type": "stream",
     "text": [
      "Coverage checked.\n",
      "Checking coverage.\n"
     ]
    },
    {
     "name": "stderr",
     "output_type": "stream",
     "text": [
      "Checking Words: 100%|██████████| 6/6 [00:00<00:00, 381300.36it/s]\n"
     ]
    },
    {
     "name": "stdout",
     "output_type": "stream",
     "text": [
      "Coverage checked.\n",
      "Building vocabulary.\n"
     ]
    },
    {
     "name": "stderr",
     "output_type": "stream",
     "text": [
      "Populating Vocabulary: 100%|██████████| 4/4 [00:00<00:00, 176602.27it/s]\n"
     ]
    },
    {
     "name": "stdout",
     "output_type": "stream",
     "text": [
      "Vocabulary built.\n",
      "Checking coverage.\n"
     ]
    },
    {
     "name": "stderr",
     "output_type": "stream",
     "text": [
      "Checking Words: 100%|██████████| 6/6 [00:00<00:00, 340078.70it/s]\n"
     ]
    },
    {
     "name": "stdout",
     "output_type": "stream",
     "text": [
      "Coverage checked.\n",
      "Checking coverage.\n"
     ]
    },
    {
     "name": "stderr",
     "output_type": "stream",
     "text": [
      "Checking Words: 100%|██████████| 6/6 [00:00<00:00, 364722.09it/s]\n"
     ]
    },
    {
     "name": "stdout",
     "output_type": "stream",
     "text": [
      "Coverage checked.\n",
      "Checking coverage.\n"
     ]
    },
    {
     "name": "stderr",
     "output_type": "stream",
     "text": [
      "Checking Words: 100%|██████████| 6/6 [00:00<00:00, 387166.52it/s]\n"
     ]
    },
    {
     "name": "stdout",
     "output_type": "stream",
     "text": [
      "Coverage checked.\n",
      "Building vocabulary.\n"
     ]
    },
    {
     "name": "stderr",
     "output_type": "stream",
     "text": [
      "Populating Vocabulary: 100%|██████████| 4/4 [00:00<00:00, 125203.10it/s]\n"
     ]
    },
    {
     "name": "stdout",
     "output_type": "stream",
     "text": [
      "Vocabulary built.\n",
      "Checking coverage.\n"
     ]
    },
    {
     "name": "stderr",
     "output_type": "stream",
     "text": [
      "Checking Words: 100%|██████████| 6/6 [00:00<00:00, 235194.62it/s]\n"
     ]
    },
    {
     "name": "stdout",
     "output_type": "stream",
     "text": [
      "Coverage checked.\n",
      "Checking coverage.\n"
     ]
    },
    {
     "name": "stderr",
     "output_type": "stream",
     "text": [
      "Checking Words: 100%|██████████| 6/6 [00:00<00:00, 310689.19it/s]\n"
     ]
    },
    {
     "name": "stdout",
     "output_type": "stream",
     "text": [
      "Coverage checked.\n",
      "Checking coverage.\n"
     ]
    },
    {
     "name": "stderr",
     "output_type": "stream",
     "text": [
      "Checking Words: 100%|██████████| 6/6 [00:00<00:00, 318554.73it/s]\n"
     ]
    },
    {
     "name": "stdout",
     "output_type": "stream",
     "text": [
      "Coverage checked.\n",
      "Starting text cleaning process.\n",
      "Loading all embeddings.\n",
      "Loading embeddings from /home/jack/github/CommonLit/glove.6B.300d.txt\n"
     ]
    },
    {
     "name": "stderr",
     "output_type": "stream",
     "text": [
      "Reading Embedding File: 400000it [00:10, 39790.98it/s]\n"
     ]
    },
    {
     "name": "stdout",
     "output_type": "stream",
     "text": [
      "Loaded embeddings from /home/jack/github/CommonLit/glove.6B.300d.txt\n",
      "Loading embeddings from /home/jack/github/CommonLit/paragram_300_sl999.txt\n"
     ]
    },
    {
     "name": "stderr",
     "output_type": "stream",
     "text": [
      "Reading Embedding File: 66199it [00:01, 36413.71it/s]\n"
     ]
    },
    {
     "name": "stdout",
     "output_type": "stream",
     "text": [
      "Loaded embeddings from /home/jack/github/CommonLit/paragram_300_sl999.txt\n",
      "Loading embeddings from /home/jack/github/CommonLit/wiki-news-300d-1M.vec\n"
     ]
    },
    {
     "name": "stderr",
     "output_type": "stream",
     "text": [
      "Reading Embedding File: 999995it [00:25, 39279.77it/s]\n"
     ]
    },
    {
     "name": "stdout",
     "output_type": "stream",
     "text": [
      "Loaded embeddings from /home/jack/github/CommonLit/wiki-news-300d-1M.vec\n",
      "All embeddings loaded.\n",
      "Processing train and test datasets.\n",
      "Building vocabulary.\n"
     ]
    },
    {
     "name": "stderr",
     "output_type": "stream",
     "text": [
      "Populating Vocabulary: 100%|██████████| 4/4 [00:00<00:00, 12354.36it/s]\n"
     ]
    },
    {
     "name": "stdout",
     "output_type": "stream",
     "text": [
      "Vocabulary built.\n",
      "Checking coverage.\n"
     ]
    },
    {
     "name": "stderr",
     "output_type": "stream",
     "text": [
      "Checking Words: 100%|██████████| 1122/1122 [00:00<00:00, 1997457.17it/s]\n"
     ]
    },
    {
     "name": "stdout",
     "output_type": "stream",
     "text": [
      "Coverage checked.\n",
      "Checking coverage.\n"
     ]
    },
    {
     "name": "stderr",
     "output_type": "stream",
     "text": [
      "Checking Words: 100%|██████████| 1122/1122 [00:00<00:00, 2094352.06it/s]\n"
     ]
    },
    {
     "name": "stdout",
     "output_type": "stream",
     "text": [
      "Coverage checked.\n",
      "Checking coverage.\n"
     ]
    },
    {
     "name": "stderr",
     "output_type": "stream",
     "text": [
      "Checking Words: 100%|██████████| 1122/1122 [00:00<00:00, 1852030.34it/s]\n"
     ]
    },
    {
     "name": "stdout",
     "output_type": "stream",
     "text": [
      "Coverage checked.\n",
      "Processed train and test datasets.\n",
      "Building vocabulary.\n"
     ]
    },
    {
     "name": "stderr",
     "output_type": "stream",
     "text": [
      "Populating Vocabulary: 100%|██████████| 4/4 [00:00<00:00, 11932.59it/s]\n"
     ]
    },
    {
     "name": "stdout",
     "output_type": "stream",
     "text": [
      "Vocabulary built.\n",
      "Checking coverage.\n"
     ]
    },
    {
     "name": "stderr",
     "output_type": "stream",
     "text": [
      "Checking Words: 100%|██████████| 1074/1074 [00:00<00:00, 1916886.17it/s]\n"
     ]
    },
    {
     "name": "stdout",
     "output_type": "stream",
     "text": [
      "Coverage checked.\n",
      "Checking coverage.\n"
     ]
    },
    {
     "name": "stderr",
     "output_type": "stream",
     "text": [
      "Checking Words: 100%|██████████| 1074/1074 [00:00<00:00, 370786.28it/s]\n"
     ]
    },
    {
     "name": "stdout",
     "output_type": "stream",
     "text": [
      "Coverage checked.\n",
      "Checking coverage.\n"
     ]
    },
    {
     "name": "stderr",
     "output_type": "stream",
     "text": [
      "Checking Words: 100%|██████████| 1074/1074 [00:00<00:00, 1788282.05it/s]\n"
     ]
    },
    {
     "name": "stdout",
     "output_type": "stream",
     "text": [
      "Coverage checked.\n",
      "Building vocabulary.\n"
     ]
    },
    {
     "name": "stderr",
     "output_type": "stream",
     "text": [
      "Populating Vocabulary: 100%|██████████| 4/4 [00:00<00:00, 11297.79it/s]\n"
     ]
    },
    {
     "name": "stdout",
     "output_type": "stream",
     "text": [
      "Vocabulary built.\n",
      "Checking coverage.\n"
     ]
    },
    {
     "name": "stderr",
     "output_type": "stream",
     "text": [
      "Checking Words: 100%|██████████| 1074/1074 [00:00<00:00, 1949235.18it/s]\n"
     ]
    },
    {
     "name": "stdout",
     "output_type": "stream",
     "text": [
      "Coverage checked.\n",
      "Checking coverage.\n"
     ]
    },
    {
     "name": "stderr",
     "output_type": "stream",
     "text": [
      "Checking Words: 100%|██████████| 1074/1074 [00:00<00:00, 2071118.39it/s]\n"
     ]
    },
    {
     "name": "stdout",
     "output_type": "stream",
     "text": [
      "Coverage checked.\n",
      "Checking coverage.\n"
     ]
    },
    {
     "name": "stderr",
     "output_type": "stream",
     "text": [
      "Checking Words: 100%|██████████| 1074/1074 [00:00<00:00, 1884804.39it/s]\n"
     ]
    },
    {
     "name": "stdout",
     "output_type": "stream",
     "text": [
      "Coverage checked.\n",
      "Building vocabulary.\n"
     ]
    },
    {
     "name": "stderr",
     "output_type": "stream",
     "text": [
      "Populating Vocabulary: 100%|██████████| 4/4 [00:00<00:00, 10324.44it/s]\n"
     ]
    },
    {
     "name": "stdout",
     "output_type": "stream",
     "text": [
      "Vocabulary built.\n",
      "Checking coverage.\n"
     ]
    },
    {
     "name": "stderr",
     "output_type": "stream",
     "text": [
      "Checking Words: 100%|██████████| 953/953 [00:00<00:00, 1998585.86it/s]\n"
     ]
    },
    {
     "name": "stdout",
     "output_type": "stream",
     "text": [
      "Coverage checked.\n",
      "Checking coverage.\n"
     ]
    },
    {
     "name": "stderr",
     "output_type": "stream",
     "text": [
      "Checking Words: 100%|██████████| 953/953 [00:00<00:00, 2121641.04it/s]\n"
     ]
    },
    {
     "name": "stdout",
     "output_type": "stream",
     "text": [
      "Coverage checked.\n",
      "Checking coverage.\n"
     ]
    },
    {
     "name": "stderr",
     "output_type": "stream",
     "text": [
      "Checking Words: 100%|██████████| 953/953 [00:00<00:00, 2012674.58it/s]"
     ]
    },
    {
     "name": "stdout",
     "output_type": "stream",
     "text": [
      "Coverage checked.\n",
      "Starting text cleaning process.\n",
      "Loading all embeddings.\n",
      "Loading embeddings from /home/jack/github/CommonLit/glove.6B.300d.txt\n"
     ]
    },
    {
     "name": "stderr",
     "output_type": "stream",
     "text": [
      "\n",
      "Reading Embedding File: 400000it [00:10, 39036.74it/s]\n"
     ]
    },
    {
     "name": "stdout",
     "output_type": "stream",
     "text": [
      "Loaded embeddings from /home/jack/github/CommonLit/glove.6B.300d.txt\n",
      "Loading embeddings from /home/jack/github/CommonLit/paragram_300_sl999.txt\n"
     ]
    },
    {
     "name": "stderr",
     "output_type": "stream",
     "text": [
      "Reading Embedding File: 66199it [00:01, 36526.46it/s]\n"
     ]
    },
    {
     "name": "stdout",
     "output_type": "stream",
     "text": [
      "Loaded embeddings from /home/jack/github/CommonLit/paragram_300_sl999.txt\n",
      "Loading embeddings from /home/jack/github/CommonLit/wiki-news-300d-1M.vec\n"
     ]
    },
    {
     "name": "stderr",
     "output_type": "stream",
     "text": [
      "Reading Embedding File: 999995it [00:27, 36790.31it/s]\n"
     ]
    },
    {
     "name": "stdout",
     "output_type": "stream",
     "text": [
      "Loaded embeddings from /home/jack/github/CommonLit/wiki-news-300d-1M.vec\n",
      "All embeddings loaded.\n",
      "Processing train and test datasets.\n",
      "Building vocabulary.\n"
     ]
    },
    {
     "name": "stderr",
     "output_type": "stream",
     "text": [
      "Populating Vocabulary: 100%|██████████| 2/2 [00:00<00:00, 61230.72it/s]\n"
     ]
    },
    {
     "name": "stdout",
     "output_type": "stream",
     "text": [
      "Vocabulary built.\n",
      "Checking coverage.\n"
     ]
    },
    {
     "name": "stderr",
     "output_type": "stream",
     "text": [
      "Checking Words: 100%|██████████| 2/2 [00:00<00:00, 99864.38it/s]\n"
     ]
    },
    {
     "name": "stdout",
     "output_type": "stream",
     "text": [
      "Coverage checked.\n",
      "Checking coverage.\n"
     ]
    },
    {
     "name": "stderr",
     "output_type": "stream",
     "text": [
      "Checking Words: 100%|██████████| 2/2 [00:00<00:00, 113359.57it/s]\n"
     ]
    },
    {
     "name": "stdout",
     "output_type": "stream",
     "text": [
      "Coverage checked.\n",
      "Checking coverage.\n"
     ]
    },
    {
     "name": "stderr",
     "output_type": "stream",
     "text": [
      "Checking Words: 100%|██████████| 2/2 [00:00<00:00, 107546.26it/s]\n"
     ]
    },
    {
     "name": "stdout",
     "output_type": "stream",
     "text": [
      "Coverage checked.\n",
      "Processed train and test datasets.\n",
      "Building vocabulary.\n"
     ]
    },
    {
     "name": "stderr",
     "output_type": "stream",
     "text": [
      "Populating Vocabulary: 100%|██████████| 2/2 [00:00<00:00, 94254.02it/s]\n"
     ]
    },
    {
     "name": "stdout",
     "output_type": "stream",
     "text": [
      "Vocabulary built.\n",
      "Checking coverage.\n"
     ]
    },
    {
     "name": "stderr",
     "output_type": "stream",
     "text": [
      "Checking Words: 100%|██████████| 2/2 [00:00<00:00, 118149.41it/s]\n"
     ]
    },
    {
     "name": "stdout",
     "output_type": "stream",
     "text": [
      "Coverage checked.\n",
      "Checking coverage.\n"
     ]
    },
    {
     "name": "stderr",
     "output_type": "stream",
     "text": [
      "Checking Words: 100%|██████████| 2/2 [00:00<00:00, 38304.15it/s]\n"
     ]
    },
    {
     "name": "stdout",
     "output_type": "stream",
     "text": [
      "Coverage checked.\n",
      "Checking coverage.\n"
     ]
    },
    {
     "name": "stderr",
     "output_type": "stream",
     "text": [
      "Checking Words: 100%|██████████| 2/2 [00:00<00:00, 80659.69it/s]\n"
     ]
    },
    {
     "name": "stdout",
     "output_type": "stream",
     "text": [
      "Coverage checked.\n",
      "Building vocabulary.\n"
     ]
    },
    {
     "name": "stderr",
     "output_type": "stream",
     "text": [
      "Populating Vocabulary: 100%|██████████| 2/2 [00:00<00:00, 66576.25it/s]\n"
     ]
    },
    {
     "name": "stdout",
     "output_type": "stream",
     "text": [
      "Vocabulary built.\n",
      "Checking coverage.\n"
     ]
    },
    {
     "name": "stderr",
     "output_type": "stream",
     "text": [
      "Checking Words: 100%|██████████| 2/2 [00:00<00:00, 121574.03it/s]\n"
     ]
    },
    {
     "name": "stdout",
     "output_type": "stream",
     "text": [
      "Coverage checked.\n",
      "Checking coverage.\n"
     ]
    },
    {
     "name": "stderr",
     "output_type": "stream",
     "text": [
      "Checking Words: 100%|██████████| 2/2 [00:00<00:00, 123361.88it/s]\n"
     ]
    },
    {
     "name": "stdout",
     "output_type": "stream",
     "text": [
      "Coverage checked.\n",
      "Checking coverage.\n"
     ]
    },
    {
     "name": "stderr",
     "output_type": "stream",
     "text": [
      "Checking Words: 100%|██████████| 2/2 [00:00<00:00, 118149.41it/s]\n"
     ]
    },
    {
     "name": "stdout",
     "output_type": "stream",
     "text": [
      "Coverage checked.\n",
      "Building vocabulary.\n"
     ]
    },
    {
     "name": "stderr",
     "output_type": "stream",
     "text": [
      "Populating Vocabulary: 100%|██████████| 2/2 [00:00<00:00, 28244.47it/s]\n"
     ]
    },
    {
     "name": "stdout",
     "output_type": "stream",
     "text": [
      "Vocabulary built.\n",
      "Checking coverage.\n"
     ]
    },
    {
     "name": "stderr",
     "output_type": "stream",
     "text": [
      "Checking Words: 100%|██████████| 3/3 [00:00<00:00, 148034.26it/s]\n"
     ]
    },
    {
     "name": "stdout",
     "output_type": "stream",
     "text": [
      "Coverage checked.\n",
      "Checking coverage.\n"
     ]
    },
    {
     "name": "stderr",
     "output_type": "stream",
     "text": [
      "Checking Words: 100%|██████████| 3/3 [00:00<00:00, 165564.63it/s]\n"
     ]
    },
    {
     "name": "stdout",
     "output_type": "stream",
     "text": [
      "Coverage checked.\n",
      "Checking coverage.\n"
     ]
    },
    {
     "name": "stderr",
     "output_type": "stream",
     "text": [
      "Checking Words: 100%|██████████| 3/3 [00:00<00:00, 161319.38it/s]"
     ]
    },
    {
     "name": "stdout",
     "output_type": "stream",
     "text": [
      "Coverage checked.\n"
     ]
    },
    {
     "name": "stderr",
     "output_type": "stream",
     "text": [
      "\n"
     ]
    }
   ],
   "source": [
    "summaries_train, oov_glove_train, oov_paragram_train, oov_fasttext_train = clean_text(summaries_train, glove, paragram, wiki_news, col_name = 'text')\n",
    "summaries_test, _, _, _ = clean_text(summaries_test, glove, paragram, wiki_news, col_name = 'text')\n",
    "prompts_train, _, _, _ = clean_text(prompts_train, glove, paragram, wiki_news, col_name = 'prompt_text')\n",
    "prompts_test, _, _, _ = clean_text(prompts_test, glove, paragram, wiki_news, col_name = 'prompt_text')"
   ]
  },
  {
   "cell_type": "code",
   "execution_count": 39,
   "id": "460596c4",
   "metadata": {},
   "outputs": [],
   "source": [
    "import pandas as pd\n",
    "import numpy as np\n",
    "\n",
    "def identify_outliers(data, feature):\n",
    "    \"\"\"\n",
    "    Identify outliers in a given feature based on the IQR method.\n",
    "    \n",
    "    Parameters:\n",
    "        data (pd.Series): The feature data.\n",
    "        \n",
    "    Returns:\n",
    "        np.ndarray: Boolean array indicating whether each sample is an outlier.\n",
    "    \"\"\"\n",
    "    Q1 = data.quantile(0.25)\n",
    "    Q3 = data.quantile(0.75)\n",
    "    IQR = Q3 - Q1\n",
    "    \n",
    "    lower_bound = Q1 - 1.5 * IQR\n",
    "    upper_bound = Q3 + 1.5 * IQR\n",
    "    \n",
    "    return (data < lower_bound) | (data > upper_bound), lower_bound, upper_bound\n",
    "\n",
    "\n",
    "# Identify outliers in the 'target' column\n",
    "outliers_content, lower_bound_cont, upper_bound_cont = identify_outliers(summaries_train['content'], 'content')\n",
    "outliers_wording, lower_bound_word, upper_bound_word = identify_outliers(summaries_train['wording'], 'wording')\n"
   ]
  },
  {
   "cell_type": "code",
   "execution_count": 57,
   "id": "94b7aaa6",
   "metadata": {},
   "outputs": [],
   "source": [
    "# summaries_train[outliers_content==True]\n",
    "# summaries_train[outliers_wording==True]"
   ]
  },
  {
   "cell_type": "code",
   "execution_count": 41,
   "id": "1d88ce37",
   "metadata": {},
   "outputs": [],
   "source": [
    "def cap_floor_outliers(data, lower_bound, upper_bound):\n",
    "    \"\"\"\n",
    "    Cap and floor outliers to the upper and lower bounds, respectively.\n",
    "    \n",
    "    Parameters:\n",
    "        data (pd.Series): The feature data.\n",
    "        lower_bound (float): The lower bound to cap the data.\n",
    "        upper_bound (float): The upper bound to cap the data.\n",
    "        \n",
    "    Returns:\n",
    "        pd.Series: The feature data with capped and floored outliers.\n",
    "    \"\"\"\n",
    "    return np.where(data > upper_bound, upper_bound,\n",
    "                    np.where(data < lower_bound, lower_bound, data))\n",
    "\n",
    "# Cap and floor outliers in the 'target' column\n",
    "summaries_train['content'] = cap_floor_outliers(summaries_train['content'], lower_bound_cont, upper_bound_cont)\n",
    "summaries_train['wording'] = cap_floor_outliers(summaries_train['wording'], lower_bound_word, upper_bound_word)\n"
   ]
  },
  {
   "cell_type": "markdown",
   "id": "abbe03b3",
   "metadata": {},
   "source": [
    "## Split the Data in to Training and Validation Sets"
   ]
  },
  {
   "cell_type": "code",
   "execution_count": 42,
   "id": "ea312105",
   "metadata": {},
   "outputs": [],
   "source": [
    "def custom_train_validation_split(summaries, prompts, test_size=0.2, random_state=None):\n",
    "    \n",
    "    \"\"\"\n",
    "    Custom function to perform train-validation split ensuring that\n",
    "    the same prompt IDs are in both training and validation sets.\n",
    "\n",
    "    Parameters:\n",
    "    - summaries: DataFrame containing summaries and associated prompt_ids\n",
    "    - prompts: DataFrame containing prompts and associated prompt_ids\n",
    "    - test_size: Proportion of the dataset to be used as the validation set\n",
    "    - random_state: Random seed for reproducibility\n",
    "\n",
    "    Returns:\n",
    "    - train_summaries: Training set containing summaries\n",
    "    - validation_summaries: Validation set containing summaries\n",
    "    - train_prompts: Training set containing prompts\n",
    "    - validation_prompts: Validation set containing prompts\n",
    "    \"\"\"\n",
    "    \n",
    "    # Extract unique prompt IDs\n",
    "    unique_prompt_ids = summaries['prompt_id'].unique()\n",
    "\n",
    "    # Split the unique prompt IDs into training and validation sets\n",
    "    train_ids, validation_ids = train_test_split(unique_prompt_ids, test_size=test_size, random_state=random_state)\n",
    "\n",
    "    # Use these IDs to filter the original summaries and prompts DataFrames\n",
    "    train_summaries = summaries[summaries['prompt_id'].isin(train_ids)]\n",
    "    validation_summaries = summaries[summaries['prompt_id'].isin(validation_ids)]\n",
    "    train_prompts = prompts[prompts['prompt_id'].isin(train_ids)]\n",
    "    validation_prompts = prompts[prompts['prompt_id'].isin(validation_ids)]\n",
    "\n",
    "    return train_summaries, validation_summaries, train_prompts, validation_prompts\n",
    "\n",
    "\n",
    "\n",
    "# Usage \n",
    "train_summaries, validation_summaries, train_prompts, validation_prompts = custom_train_validation_split(summaries_train, prompts_train, test_size=0.2, random_state=42)\n"
   ]
  },
  {
   "cell_type": "code",
   "execution_count": 58,
   "id": "107227f2",
   "metadata": {},
   "outputs": [],
   "source": [
    "\n",
    "\n",
    "def extract_features(texts, tfidf_vectorizer=None):\n",
    "    \n",
    "    \"\"\"\n",
    "    Extracts TF-IDF features from a list of texts.\n",
    "    \n",
    "    Parameters:\n",
    "    - texts (list): A list of strings containing the text to be processed.\n",
    "    - tfidf_vectorizer (TfidfVectorizer, optional): A pre-fitted TfidfVectorizer. If None, a new one will be fitted.\n",
    "    \n",
    "    Returns:\n",
    "    - array: The TF-IDF features in dense array format.\n",
    "    - TfidfVectorizer: The fitted or provided TfidfVectorizer instance.\n",
    "    \"\"\"\n",
    "    \n",
    "    # Initialize the TfidfVectorizer if not provided\n",
    "    if tfidf_vectorizer is None:\n",
    "        tfidf_vectorizer = TfidfVectorizer()\n",
    "        tfidf_features = tfidf_vectorizer.fit_transform(texts)\n",
    "    else:\n",
    "        # Transform texts using the provided TfidfVectorizer\n",
    "        tfidf_features = tfidf_vectorizer.transform(texts)\n",
    "        \n",
    "    # Convert the sparse array to a dense array\n",
    "    return tfidf_features.toarray(), tfidf_vectorizer\n",
    "\n",
    "\n",
    "def preprocess_text(text):\n",
    "    \n",
    "    \"\"\"\n",
    "    Preprocesses a single text string.\n",
    "    \n",
    "    Parameters:\n",
    "    - text (str): The text to preprocess.\n",
    "    \n",
    "    Returns:\n",
    "    - str: The preprocessed text.\n",
    "    \"\"\"\n",
    "    \n",
    "    # Tokenize the text into words\n",
    "    tokens = nltk.word_tokenize(text)\n",
    "    \n",
    "    # Convert all tokens to lowercase\n",
    "    tokens = [token.lower() for token in tokens]\n",
    "    \n",
    "    # Remove non-alphanumeric tokens\n",
    "    tokens = [token for token in tokens if token.isalnum()]\n",
    "    \n",
    "    # Remove stop words\n",
    "#     stop_words = set(stopwords.words('english'))\n",
    "#     tokens = [token for token in tokens if token not in stop_words]\n",
    "    \n",
    "    # Reconstruct the text from the processed tokens\n",
    "    preprocessed_text = ' '.join(tokens)\n",
    "    \n",
    "    return preprocessed_text\n",
    "\n",
    "\n",
    "def preprocess_data(summaries, prompts, tfidf_vectorizer=None):\n",
    "    \n",
    "    \"\"\"\n",
    "    Preprocesses and computes features for a dataset with text summaries and prompts.\n",
    "    \n",
    "    Parameters:\n",
    "    - summaries (DataFrame): DataFrame containing the text summaries.\n",
    "    - prompts (DataFrame): DataFrame containing the text prompts.\n",
    "    - tfidf_vectorizer (TfidfVectorizer, optional): A pre-fitted TfidfVectorizer.\n",
    "    \n",
    "    Returns:\n",
    "    - DataFrame: The preprocessed and feature-engineered DataFrame.\n",
    "    \"\"\"\n",
    "    \n",
    "    # Merge the summaries and prompts DataFrames on the 'prompt_id' column\n",
    "    print('Merging Prompts and Summaries.......')\n",
    "    \n",
    "    merged_data = summaries.merge(prompts, on='prompt_id', how='left', suffixes=('_summaries', '_prompts'))\n",
    "#     merged_data = summaries.merge(prompts, on='prompt_id', how='left')\n",
    "    merged_data['combined_text'] = merged_data['treated_question_summaries'] + \" \" + merged_data['treated_question_prompts']\n",
    "\n",
    "    # Apply text preprocessing\n",
    "    merged_data['treated_question_summaries'] = merged_data['treated_question_summaries'].apply(preprocess_text)\n",
    "\n",
    "    # Extract TF-IDF features\n",
    "#     tfidf_features, tfidf_vectorizer = extract_features(merged_data['preprocessed_text'], tfidf_vectorizer=tfidf_vectorizer)\n",
    "\n",
    "    stop_words = set(stopwords.words('english'))\n",
    "    print('Generating Text Based Features.......')\n",
    "    # Compute word count, sentence count, text length, and stopword count\n",
    "    merged_data['word_count'] = merged_data['treated_question_summaries'].apply(lambda x: len(word_tokenize(x)))\n",
    "    merged_data['sentence_count'] = merged_data['treated_question_summaries'].apply(lambda x: len(sent_tokenize(x)))\n",
    "    merged_data['len_text'] = merged_data['treated_question_summaries'].str.len()\n",
    "    merged_data['stop_count'] = merged_data['treated_question_summaries'].apply(lambda x: len([word for word in word_tokenize(x) if word in stop_words]))\n",
    "    import string\n",
    "    merged_data['punct_count'] = merged_data['treated_question_summaries'].apply(lambda x: len([char for char in x if char in string.punctuation]))\n",
    "    merged_data['capital_count'] = merged_data['treated_question_summaries'].apply(lambda x: len([word for word in word_tokenize(x) if word.isupper()]))\n",
    "    from nltk import pos_tag\n",
    "    merged_data['noun_count'] = merged_data['treated_question_summaries'].apply(lambda x: len([word for word, pos in pos_tag(word_tokenize(x)) if pos.startswith('NN')]))\n",
    "    import nltk\n",
    "    from nltk import ne_chunk\n",
    "    merged_data['ne_count'] = merged_data['treated_question_summaries'].apply(lambda x: len([chunk for chunk in ne_chunk(pos_tag(word_tokenize(x))) if hasattr(chunk, 'label')]))\n",
    "    merged_data['avg_word_len'] = merged_data['treated_question_summaries'].apply(lambda x: sum(len(word) for word in word_tokenize(x)) / len(word_tokenize(x)) if len(word_tokenize(x)) > 0 else 0)\n",
    "    merged_data['lex_div'] = merged_data['treated_question_summaries'].apply(lambda x: len(set(word_tokenize(x))) / len(word_tokenize(x)) if len(word_tokenize(x)) > 0 else 0)\n",
    "    from textblob import TextBlob\n",
    "    merged_data['polarity'] = merged_data['treated_question_summaries'].apply(lambda x: TextBlob(x).sentiment.polarity)\n",
    "    merged_data['subjectivity'] = merged_data['treated_question_summaries'].apply(lambda x: TextBlob(x).sentiment.subjectivity)\n",
    "    from collections import Counter\n",
    "    merged_data['most_common_word_count'] = merged_data['treated_question_summaries'].apply(lambda x: Counter(word_tokenize(x)).most_common(1)[0][1] if len(word_tokenize(x)) > 0 else 0)\n",
    "\n",
    "    \n",
    "    # Calculate cosine similarity between the text and its corresponding prompt\n",
    "    print('Computing Cosine Similarity.......')\n",
    "    merged_data = compute_cosine_similarity(merged_data, 'treated_question_summaries', 'treated_question_prompts')\n",
    "    \n",
    "    return merged_data\n",
    "\n",
    "\n",
    "def compute_cosine_similarity(df, text_col, content_col):\n",
    "    \n",
    "    \"\"\"\n",
    "    Computes the cosine similarity between two columns of text in a DataFrame.\n",
    "    \n",
    "    Parameters:\n",
    "    - df (DataFrame): The DataFrame containing the texts.\n",
    "    - text_col (str): The name of the column containing the first set of texts.\n",
    "    - content_col (str): The name of the column containing the second set of texts.\n",
    "    \n",
    "    Returns:\n",
    "    - DataFrame: The DataFrame with an additional column for the computed cosine similarity.\n",
    "    \"\"\"\n",
    "    \n",
    "    # Combine texts from both columns to fit the TF-IDF vectorizer\n",
    "    all_texts = df[text_col].tolist() + df[content_col].tolist()\n",
    "    \n",
    "    # Fit the TF-IDF vectorizer on the combined corpus\n",
    "    vectorizer = TfidfVectorizer()\n",
    "    vectorizer.fit(all_texts)\n",
    "    \n",
    "    # Generate TF-IDF vectors for both columns\n",
    "    text_tfidf = vectorizer.transform(df[text_col])\n",
    "    content_tfidf = vectorizer.transform(df[content_col])\n",
    "    \n",
    "    # Compute cosine similarity for each pair of text and content\n",
    "    cosine_sim_values = [cosine_similarity(text_tfidf[i], content_tfidf[i])[0][0] for i in range(len(df))]\n",
    "    \n",
    "    # Add the computed cosine similarity values to the DataFrame\n",
    "    df['cos_sim'] = cosine_sim_values\n",
    "    \n",
    "    return df\n"
   ]
  },
  {
   "cell_type": "code",
   "execution_count": 56,
   "id": "a13b7e9e",
   "metadata": {},
   "outputs": [
    {
     "name": "stdout",
     "output_type": "stream",
     "text": [
      "Merging Prompts and Summaries.......\n",
      "Generating Text Based Features.......\n",
      "Computing Cosine Similarity.......\n",
      "Merging Prompts and Summaries.......\n",
      "Generating Text Based Features.......\n",
      "Computing Cosine Similarity.......\n",
      "Merging Prompts and Summaries.......\n",
      "Generating Text Based Features.......\n",
      "Computing Cosine Similarity.......\n",
      "Merging Prompts and Summaries.......\n",
      "Generating Text Based Features.......\n",
      "Computing Cosine Similarity.......\n"
     ]
    }
   ],
   "source": [
    "# For training data\n",
    "merged_train_data = preprocess_data(train_summaries, train_prompts)\n",
    "\n",
    "merged_validation_data = preprocess_data(validation_summaries, validation_prompts)\n",
    "\n",
    "# For test data\n",
    "merged_test_data = preprocess_data(summaries_test, prompts_test)\n",
    "\n",
    "full_data = preprocess_data(summaries_train, prompts_train)"
   ]
  },
  {
   "cell_type": "code",
   "execution_count": 59,
   "id": "98d0f9a7",
   "metadata": {},
   "outputs": [],
   "source": [
    "drop_cols = ['prompt_id', 'text', 'lowered_question_summaries', 'cleaned_text_summaries',\n",
    "       'treated_question_summaries', 'prompt_question', 'prompt_title',\n",
    "       'prompt_text', 'lowered_question_prompts', 'cleaned_text_prompts',\n",
    "       'treated_question_prompts', 'combined_text']\n",
    "\n",
    "merged_train_data.drop(columns=drop_cols, inplace= True)\n",
    "merged_validation_data.drop(columns=drop_cols, inplace= True)\n",
    "merged_test_data.drop(columns=drop_cols, inplace= True)\n",
    "\n",
    "full_data.drop(columns=drop_cols, inplace= True)"
   ]
  },
  {
   "cell_type": "code",
   "execution_count": 60,
   "id": "184119a6",
   "metadata": {},
   "outputs": [
    {
     "data": {
      "text/plain": [
       "Index(['student_id', 'content', 'wording', 'word_count', 'sentence_count',\n",
       "       'len_text', 'stop_count', 'punct_count', 'capital_count', 'noun_count',\n",
       "       'ne_count', 'avg_word_len', 'lex_div', 'polarity', 'subjectivity',\n",
       "       'most_common_word_count', 'cos_sim'],\n",
       "      dtype='object')"
      ]
     },
     "execution_count": 60,
     "metadata": {},
     "output_type": "execute_result"
    }
   ],
   "source": [
    "merged_train_data.columns"
   ]
  },
  {
   "cell_type": "code",
   "execution_count": 61,
   "id": "136427fc",
   "metadata": {},
   "outputs": [
    {
     "data": {
      "text/plain": [
       "Index(['student_id', 'content', 'wording', 'word_count', 'sentence_count',\n",
       "       'len_text', 'stop_count', 'punct_count', 'capital_count', 'noun_count',\n",
       "       'ne_count', 'avg_word_len', 'lex_div', 'polarity', 'subjectivity',\n",
       "       'most_common_word_count', 'cos_sim'],\n",
       "      dtype='object')"
      ]
     },
     "execution_count": 61,
     "metadata": {},
     "output_type": "execute_result"
    }
   ],
   "source": [
    "full_data.columns"
   ]
  },
  {
   "cell_type": "code",
   "execution_count": 62,
   "id": "e74fe41d",
   "metadata": {},
   "outputs": [],
   "source": [
    "feature_cols = []\n",
    "\n",
    "for col in merged_train_data.columns:\n",
    "    if (col != 'student_id') and (col != 'content') and (col != 'wording'):\n",
    "        feature_cols.append(col) \n",
    "\n",
    "\n",
    "# Select relevant columns (replace with actual column names)\n",
    "full_labels = full_data[['content', 'wording']]\n",
    "\n",
    "target_labels = merged_train_data[['content', 'wording']]\n",
    "\n",
    "validation_labels = merged_validation_data[['content', 'wording']]\n",
    "\n",
    "train_features = merged_train_data[feature_cols].values\n",
    "\n",
    "val_features = merged_validation_data[feature_cols].values\n",
    "\n",
    "test_features = merged_test_data[feature_cols].values\n",
    "\n",
    "full_features = full_data[feature_cols].values\n",
    "\n",
    "# Standardize the features if needed\n",
    "\n",
    "scaler = StandardScaler()\n",
    "\n",
    "# target_scaler = MinMaxScaler(feature_range=(-1, 1))\n",
    "\n",
    "target_scaler = MinMaxScaler()\n",
    "\n",
    "full_features = scaler.fit_transform(full_features)\n",
    "\n",
    "train_features = scaler.fit_transform(train_features)\n",
    "\n",
    "val_features = scaler.transform(val_features)\n",
    "\n",
    "test_features = scaler.transform(test_features)\n",
    "\n",
    "target_labels_scaled = target_scaler.fit_transform(target_labels)\n",
    "\n",
    "validation_labels_scaled = target_scaler.transform(validation_labels)\n",
    "\n",
    "full_labels_scaled = target_scaler.fit_transform(full_labels)\n",
    "\n",
    "# Optionally, convert back to DataFrame\n",
    "target_labels = pd.DataFrame(target_labels_scaled, columns=['content', 'wording'], index=target_labels.index)\n",
    "validation_labels = pd.DataFrame(validation_labels_scaled, columns=['content', 'wording'], index=validation_labels.index)\n",
    "full_labels = pd.DataFrame(full_labels_scaled, columns=['content', 'wording'], index=full_labels.index)\n",
    "\n",
    "# import pickle\n",
    "\n",
    "# # Save the scaler and other processed data\n",
    "# with open('target_scaler.pkl', 'wb') as f:\n",
    "#     pickle.dump(target_scaler, f)\n",
    "\n",
    "# with open('scaler.pkl', 'wb') as f:\n",
    "#     pickle.dump(scaler, f)\n",
    "    \n",
    "# Combine TF-IDF features with the selected features\n",
    "\n",
    "# combined_train_features = np.hstack((tfidf_train_features, train_features))\n",
    "\n",
    "# combined_test_features = np.hstack((tfidf_test_features, test_features))\n"
   ]
  },
  {
   "cell_type": "code",
   "execution_count": 63,
   "id": "b825891c",
   "metadata": {},
   "outputs": [
    {
     "name": "stderr",
     "output_type": "stream",
     "text": [
      "2023-10-15 01:26:48.408020: E tensorflow/compiler/xla/stream_executor/cuda/cuda_driver.cc:268] failed call to cuInit: CUDA_ERROR_COMPAT_NOT_SUPPORTED_ON_DEVICE: forward compatibility was attempted on non supported HW\n",
      "2023-10-15 01:26:48.408043: I tensorflow/compiler/xla/stream_executor/cuda/cuda_diagnostics.cc:168] retrieving CUDA diagnostic information for host: jack\n",
      "2023-10-15 01:26:48.408046: I tensorflow/compiler/xla/stream_executor/cuda/cuda_diagnostics.cc:175] hostname: jack\n",
      "2023-10-15 01:26:48.408189: I tensorflow/compiler/xla/stream_executor/cuda/cuda_diagnostics.cc:199] libcuda reported version is: 535.104.5\n",
      "2023-10-15 01:26:48.408202: I tensorflow/compiler/xla/stream_executor/cuda/cuda_diagnostics.cc:203] kernel reported version is: 535.86.5\n",
      "2023-10-15 01:26:48.408205: E tensorflow/compiler/xla/stream_executor/cuda/cuda_diagnostics.cc:312] kernel version 535.86.5 does not match DSO version 535.104.5 -- cannot find working devices in this configuration\n"
     ]
    }
   ],
   "source": [
    "train_reg = tf.data.Dataset.from_tensor_slices((train_features, target_labels)).shuffle(len(train_features)).batch(32)\n",
    "val_reg = tf.data.Dataset.from_tensor_slices((val_features, validation_labels)).batch(32)\n",
    "full_reg = tf.data.Dataset.from_tensor_slices((full_features, full_labels)).shuffle(len(full_features)).batch(32)\n"
   ]
  },
  {
   "cell_type": "markdown",
   "id": "498bfce8",
   "metadata": {},
   "source": [
    "## num_words:\n",
    "\n",
    "Purpose: \n",
    "\n",
    "    This parameter sets the maximum number of words to keep, based on word frequency. Only the most common num_words will be kept. If set to None, all words will be kept.\n",
    "\n",
    "How to Choose:\n",
    "\n",
    "    You can start by examining the distribution of word frequencies in your text corpus. This can give you an idea of how many unique words are in your data, and how frequently they occur.\n",
    "    \n",
    "    If computational resources are limited, or if you want to avoid overfitting, you might set this value to limit the vocabulary size.\n",
    "\n",
    "    If the dataset is large and diverse, keeping all words (None) might be feasible and beneficial. But if the dataset is small, limiting the vocabulary might prevent overfitting.\n",
    "\n",
    "## Here's an example code snippet to plot word frequency using Python:"
   ]
  },
  {
   "cell_type": "code",
   "execution_count": 71,
   "id": "14413f39",
   "metadata": {},
   "outputs": [
    {
     "name": "stdout",
     "output_type": "stream",
     "text": [
      "Merging Prompts and Summaries.......\n",
      "Generating Text Based Features.......\n",
      "Computing Cosine Similarity.......\n"
     ]
    }
   ],
   "source": [
    "tester = preprocess_data(validation_summaries, validation_prompts)\n"
   ]
  },
  {
   "cell_type": "code",
   "execution_count": 74,
   "id": "af8daf70",
   "metadata": {},
   "outputs": [
    {
     "data": {
      "image/png": "[encoded data removed]",
      "text/plain": [
       "<Figure size 1500x700 with 1 Axes>"
      ]
     },
     "metadata": {},
     "output_type": "display_data"
    }
   ],
   "source": [
    "# Assuming 'train_data' contains the preprocessed training text in a column called 'preprocessed_text'\n",
    "words = ' '.join(tester['treated_question_summaries']).split()\n",
    "word_freq = Counter(words)\n",
    "\n",
    "# Sort by frequency\n",
    "sorted_word_freq = sorted(word_freq.items(), key=lambda x: x[1], reverse=True)\n",
    "\n",
    "# Plot\n",
    "plt.figure(figsize=(15, 7))\n",
    "plt.bar([x[0] for x in sorted_word_freq[:50]], [x[1] for x in sorted_word_freq[:50]])\n",
    "plt.xticks(rotation=45)\n",
    "plt.xlabel(\"Words\")\n",
    "plt.ylabel(\"Frequency\")\n",
    "plt.show()\n"
   ]
  },
  {
   "cell_type": "code",
   "execution_count": 75,
   "id": "4e25ddb8",
   "metadata": {},
   "outputs": [],
   "source": [
    "import tensorflow as tf\n",
    "\n",
    "def mcrmse_loss(y_true: tf.Tensor, y_pred: tf.Tensor) -> tf.Tensor:\n",
    "    \"\"\"\n",
    "    Compute the Mean Columnwise Root Mean Squared Error (MCRMSE).\n",
    "    \n",
    "    Parameters:\n",
    "    - y_true : tf.Tensor\n",
    "        Ground truth values.\n",
    "        \n",
    "    - y_pred : tf.Tensor\n",
    "        Predicted values.\n",
    "    \n",
    "    Returns:\n",
    "    - mcrmse : tf.Tensor\n",
    "        The computed MCRMSE value.\n",
    "    \"\"\"\n",
    "    columnwise_mse = tf.reduce_mean(tf.square(y_true - y_pred), axis=0)\n",
    "    columnwise_rmse = tf.sqrt(columnwise_mse)\n",
    "    mcrmse = tf.reduce_mean(columnwise_rmse)\n",
    "    return mcrmse\n",
    "\n",
    "def weighted_mcrmse_loss_factory(weights):\n",
    "    \"\"\"\n",
    "    Factory function for generating a custom loss function that combines different losses.\n",
    "    \n",
    "    Parameters:\n",
    "    - weights: List of weights for each loss component\n",
    "    \n",
    "    Returns:\n",
    "    - weighted_mcrmse_loss: A function for computing the weighted loss\n",
    "    \"\"\"\n",
    "    def weighted_mcrmse_loss(y_true, y_pred):\n",
    "        \"\"\"\n",
    "        Compute the weighted Mean Columnwise Root Mean Squared Error (MCRMSE).\n",
    "        \n",
    "        Parameters:\n",
    "        - y_true: True labels\n",
    "        - y_pred: Predicted labels\n",
    "        \n",
    "        Returns:\n",
    "        - loss: The weighted loss\n",
    "        \"\"\"\n",
    "        # Calculate columnwise MSE and RMSE\n",
    "        columnwise_mse = tf.reduce_mean(tf.square(y_true - y_pred), axis=0)\n",
    "        columnwise_rmse = tf.sqrt(columnwise_mse)\n",
    "        \n",
    "        # Apply weights to the columnwise RMSE\n",
    "        weighted_rmse = tf.multiply(columnwise_rmse, weights)\n",
    "        \n",
    "        # Take the mean across all columns to get the final loss\n",
    "        loss = tf.reduce_mean(weighted_rmse)\n",
    "        \n",
    "        return loss\n",
    "    \n",
    "    return weighted_mcrmse_loss\n"
   ]
  },
  {
   "cell_type": "markdown",
   "id": "4579be14",
   "metadata": {},
   "source": [
    "# <p style=\"font-family:JetBrains Mono; font-weight:bold; letter-spacing: 2px; color:#243139; font-size:140%; text-align:left;padding: 0px; border-bottom: 3px solid #000000\"> <a name=\"training\"></a>Training</p>"
   ]
  },
  {
   "cell_type": "code",
   "execution_count": 76,
   "id": "d0b24179",
   "metadata": {},
   "outputs": [
    {
     "name": "stdout",
     "output_type": "stream",
     "text": [
      "Training Target Mean: \n",
      " 0.42552639544404963\n",
      "Validation Target Mean: \n",
      " 0.37916114126482975\n"
     ]
    }
   ],
   "source": [
    "print(f'Training Target Mean: \\n {np.mean(target_labels)}')\n",
    "print(f'Validation Target Mean: \\n {np.mean(validation_labels)}')"
   ]
  },
  {
   "cell_type": "code",
   "execution_count": 77,
   "id": "bde7478e",
   "metadata": {},
   "outputs": [
    {
     "name": "stdout",
     "output_type": "stream",
     "text": [
      "5169 5169\n",
      "1996 1996\n"
     ]
    }
   ],
   "source": [
    "print(len(train_features), len(target_labels))\n",
    "print(len(val_features), len(validation_labels))"
   ]
  },
  {
   "cell_type": "code",
   "execution_count": 78,
   "id": "e1d5799d",
   "metadata": {},
   "outputs": [
    {
     "data": {
      "text/plain": [
       "(5169, 14)"
      ]
     },
     "execution_count": 78,
     "metadata": {},
     "output_type": "execute_result"
    }
   ],
   "source": [
    "train_features.shape"
   ]
  },
  {
   "cell_type": "code",
   "execution_count": 79,
   "id": "789d703a",
   "metadata": {},
   "outputs": [],
   "source": [
    "from tensorflow.keras.callbacks import ReduceLROnPlateau\n",
    "from tensorflow.keras.optimizers import schedules, AdamW, RMSprop\n",
    "\n",
    "def build_regression_model(hp):\n",
    "    \n",
    "    n_hidden = hp.Int(\"n_hidden\", min_value=0, max_value=8, default=2)  # number of hidden layers\n",
    "    n_neurons = hp.Int(\"n_neurons\", min_value=16, max_value=256)  # neurons in each hidden layer\n",
    "    l2_reg = hp.Float(\"l2_reg\", min_value=1e-6, max_value=1e-2, sampling=\"log\")  # L2 regularization\n",
    "    learning_rate = hp.Float(\"learning_rate\", min_value=1e-4, max_value=1e-2, sampling=\"log\")  # learning rate\n",
    "    \n",
    "    optimizer_choice = hp.Choice(\"optimizer_choice\", ['adam', 'sgd', 'RMSprop', 'Adagrad', 'Adadelta', 'Nadam', 'Ftrl', 'L-BFGS'])\n",
    "    \n",
    "    # Learning rate schedulers\n",
    "    lr_schedule = schedules.ExponentialDecay(initial_learning_rate=learning_rate,\n",
    "                                             decay_steps=10000,\n",
    "                                             decay_rate=0.9)\n",
    "    \n",
    "    if optimizer_choice == 'adam':\n",
    "        optimizer = AdamW(learning_rate=lr_schedule)\n",
    "    elif optimizer_choice == 'sgd':\n",
    "        optimizer = tf.keras.optimizers.SGD(learning_rate=lr_schedule)\n",
    "    elif optimizer_choice == 'RMSprop':\n",
    "        optimizer = RMSprop(learning_rate=lr_schedule)\n",
    "    elif optimizer_choice == 'Adagrad':\n",
    "        optimizer = tf.keras.optimizers.Adagrad(learning_rate=lr_schedule)\n",
    "    elif optimizer_choice == 'Adadelta':\n",
    "        optimizer = tf.keras.optimizers.Adadelta(learning_rate=lr_schedule)\n",
    "    elif optimizer_choice == 'Nadam':\n",
    "        optimizer = tf.keras.optimizers.Nadam(learning_rate=lr_schedule)\n",
    "    else:\n",
    "        # Ftrl will be the default optimizer\n",
    "        optimizer = tf.keras.optimizers.Ftrl(learning_rate=lr_schedule)\n",
    "\n",
    "    \n",
    "    model = tf.keras.models.Sequential()\n",
    "    \n",
    "    model.add(tf.keras.layers.Dense(hp.Int('input_units', min_value=32, max_value=512, step=32), \n",
    "                                    activation='relu', input_shape=(train_features.shape[1],)))  # Assuming X_train is pre-defined\n",
    "    \n",
    "    dropout_rate = hp.Float(\"dropout_rate\", min_value=0.0, max_value=0.5, step=0.05)  # dropout rate\n",
    "    \n",
    "    # Adding Batch Normalization and dropout for each hidden layer\n",
    "    for _ in range(n_hidden):\n",
    "        model.add(tf.keras.layers.BatchNormalization())\n",
    "        model.add(tf.keras.layers.Dense(n_neurons, activation='relu', kernel_regularizer=tf.keras.regularizers.l2(l2_reg)))\n",
    "        model.add(tf.keras.layers.Dropout(rate=dropout_rate))\n",
    "    \n",
    "    model.add(tf.keras.layers.Dense(2))  # Output layer\n",
    "    \n",
    "    my_weighted_loss = weighted_mcrmse_loss_factory([.4, .6])\n",
    "    \n",
    "    model.compile(optimizer=optimizer, loss=my_weighted_loss)\n",
    "\n",
    "\n",
    "    # Learning rate reduction callback\n",
    "    reduce_lr = ReduceLROnPlateau(monitor='val_loss', factor=0.2, patience=5, min_lr=1e-5)\n",
    "    \n",
    "    return model\n"
   ]
  },
  {
   "cell_type": "code",
   "execution_count": 80,
   "id": "997a7a71",
   "metadata": {},
   "outputs": [],
   "source": [
    "def build_regression_model2(hp):\n",
    "    n_hidden = hp.Int(\n",
    "        \"n_hidden\", min_value=0, max_value=8, default=2\n",
    "    )  # number of hidden layers\n",
    "\n",
    "    n_neurons = hp.Int(\n",
    "        \"n_neurons\", min_value=16, max_value=256\n",
    "    )  # number of neurons in each hidden layer\n",
    "\n",
    "\n",
    "    l2_reg = hp.Float(\"l2_reg\", min_value=1e-6, max_value=1e-2, sampling=\"log\")\n",
    "\n",
    "    learning_rate = hp.Float(\n",
    "        \"learning_rate\", min_value=1e-4, max_value=1e-2, sampling=\"log\")  # learning rate\n",
    "\n",
    "    optimizer_choice = hp.Choice(\"optimizer_choice\", ['adam', 'sgd', 'RMSprop', 'Adagrad', 'Adadelta', 'Nadam', 'Ftrl', 'L-BFGS'])\n",
    "    \n",
    "    # Learning rate schedulers\n",
    "    lr_schedule = schedules.ExponentialDecay(initial_learning_rate=learning_rate,\n",
    "                                             decay_steps=10000,\n",
    "                                             decay_rate=0.9)\n",
    "    \n",
    "    if optimizer_choice == 'adam':\n",
    "        optimizer = AdamW(learning_rate=lr_schedule)\n",
    "    elif optimizer_choice == 'sgd':\n",
    "        optimizer = tf.keras.optimizers.SGD(learning_rate=lr_schedule)\n",
    "    elif optimizer_choice == 'RMSprop':\n",
    "        optimizer = RMSprop(learning_rate=lr_schedule)\n",
    "    elif optimizer_choice == 'Adagrad':\n",
    "        optimizer = tf.keras.optimizers.Adagrad(learning_rate=lr_schedule)\n",
    "    elif optimizer_choice == 'Adadelta':\n",
    "        optimizer = tf.keras.optimizers.Adadelta(learning_rate=lr_schedule)\n",
    "    elif optimizer_choice == 'Nadam':\n",
    "        optimizer = tf.keras.optimizers.Nadam(learning_rate=lr_schedule)\n",
    "    elif optimizer_choice == 'Ftrl':\n",
    "        optimizer = tf.keras.optimizers.Ftrl(learning_rate=lr_schedule)\n",
    "    # L-BFGS is a bit different and may require separate handling, left out here for simplicity\n",
    "    \n",
    "    model = tf.keras.models.Sequential()\n",
    "\n",
    "    model.add(tf.keras.layers.Dense(hp.Int('input_units', min_value=32, max_value=512, step=32), \n",
    "                                    activation='relu', input_shape=(train_features.shape[1],)))\n",
    "\n",
    "    model.add(tf.keras.layers.BatchNormalization())  # Batch Normalization\n",
    "\n",
    "    for _ in range(n_hidden):\n",
    "        model.add(tf.keras.layers.Dense(n_neurons, activation='relu', kernel_regularizer=tf.keras.regularizers.l2(l2_reg)))\n",
    "        model.add(tf.keras.layers.Dropout(rate=hp.Float('dropout_rate', min_value=0.1, max_value=0.5, step=0.05)))  # Dropout\n",
    "\n",
    "    model.add(tf.keras.layers.Dense(2))  # Assuming you want to stick with a linear activation\n",
    "\n",
    "    my_weighted_loss = weighted_mcrmse_loss_factory([0.4, 0.6])\n",
    "    \n",
    "    model.compile(optimizer=optimizer, loss=mcrmse_loss)    \n",
    "    \n",
    "    return model\n"
   ]
  },
  {
   "cell_type": "code",
   "execution_count": 82,
   "id": "ab2906f6",
   "metadata": {},
   "outputs": [
    {
     "name": "stdout",
     "output_type": "stream",
     "text": [
      "Trial 8 Complete [00h 00m 08s]\n",
      "val_loss: 0.13879618048667908\n",
      "\n",
      "Best val_loss So Far: 0.12588153779506683\n",
      "Total elapsed time: 00h 02m 20s\n"
     ]
    }
   ],
   "source": [
    "from tensorflow.keras.callbacks import ModelCheckpoint, EarlyStopping\n",
    "\n",
    "model_checkpoint = ModelCheckpoint('best_standard_model_epoch.h5', save_best_only=True, monitor='val_loss', mode='min')\n",
    "early_stopping = EarlyStopping(monitor='val_loss', patience=5, restore_best_weights=True)\n",
    "\n",
    "call_backs = [model_checkpoint, early_stopping]\n",
    "\n",
    "tuner_2 = kt.BayesianOptimization(\n",
    "    build_regression_model2,\n",
    "    objective='val_loss',\n",
    "    max_trials=8,\n",
    "    num_initial_points= 2,\n",
    "    seed=1,\n",
    "    overwrite=True,\n",
    "    directory='tuner_2',\n",
    "    project_name='standard'\n",
    ")\n",
    "\n",
    "tuner_2.search(train_reg, epochs=1000, validation_data=val_reg, callbacks = call_backs)\n",
    "\n",
    "best_standard_model = tuner_2.get_best_models(num_models=1)[0]\n",
    "\n",
    "\n",
    "best_standard_model.save('best_standard_model.h5')"
   ]
  },
  {
   "cell_type": "markdown",
   "id": "98483ad2",
   "metadata": {},
   "source": [
    "# <p style=\"font-family:JetBrains Mono; font-weight:bold; letter-spacing: 2px; color:#243139; font-size:140%; text-align:left;padding: 0px; border-bottom: 3px solid #000000\"> <a name=\"model-evaluation\"></a>Model Evaluation</p>"
   ]
  },
  {
   "cell_type": "code",
   "execution_count": 83,
   "id": "168cf19e",
   "metadata": {},
   "outputs": [
    {
     "name": "stdout",
     "output_type": "stream",
     "text": [
      "63/63 [==============================] - 0s 925us/step\n"
     ]
    },
    {
     "data": {
      "text/plain": [
       "array([[-0.8454196 , -0.89989644],\n",
       "       [-0.24020514, -0.1033671 ],\n",
       "       [-0.8962264 , -0.762141  ],\n",
       "       ...,\n",
       "       [ 0.5190189 ,  0.21151002],\n",
       "       [-0.04582727,  0.12711921],\n",
       "       [ 0.52879053,  0.28330225]], dtype=float32)"
      ]
     },
     "execution_count": 83,
     "metadata": {},
     "output_type": "execute_result"
    }
   ],
   "source": [
    "predictions = best_standard_model.predict(val_features)\n",
    "predictions = target_scaler.inverse_transform(predictions)\n",
    "predictions"
   ]
  },
  {
   "cell_type": "code",
   "execution_count": 84,
   "id": "30ec1028",
   "metadata": {},
   "outputs": [
    {
     "data": {
      "text/plain": [
       "array([[-0.54830408,  0.50675535],\n",
       "       [ 0.20568251,  0.38053764],\n",
       "       [-0.87888858, -0.96632982],\n",
       "       ...,\n",
       "       [ 0.32873852, -1.05329428],\n",
       "       [ 0.20568251,  0.38053764],\n",
       "       [ 1.77159643,  0.54774244]])"
      ]
     },
     "execution_count": 84,
     "metadata": {},
     "output_type": "execute_result"
    }
   ],
   "source": [
    "true = validation_labels\n",
    "true = target_scaler.inverse_transform(true)\n",
    "true"
   ]
  },
  {
   "cell_type": "code",
   "execution_count": 85,
   "id": "45934acd",
   "metadata": {},
   "outputs": [
    {
     "name": "stdout",
     "output_type": "stream",
     "text": [
      " Mean Difference 0.008457204784438488 \n",
      "\n"
     ]
    },
    {
     "data": {
      "text/plain": [
       "<matplotlib.collections.PathCollection at 0x7f202a760ac0>"
      ]
     },
     "execution_count": 85,
     "metadata": {},
     "output_type": "execute_result"
    },
    {
     "data": {
      "image/png": "[encoded data removed]",
      "text/plain": [
       "<Figure size 640x480 with 1 Axes>"
      ]
     },
     "metadata": {},
     "output_type": "display_data"
    }
   ],
   "source": [
    "mean_diff = np.mean(true - predictions)\n",
    "print(f' Mean Difference {mean_diff} \\n')\n",
    "\n",
    "plt.scatter(true, predictions)"
   ]
  },
  {
   "cell_type": "code",
   "execution_count": 90,
   "id": "dfce6289",
   "metadata": {},
   "outputs": [
    {
     "name": "stdout",
     "output_type": "stream",
     "text": [
      "Epoch 1/500\n",
      "224/224 [==============================] - 1s 2ms/step - loss: 0.0726 - mse: 0.0197 - mae: 0.1092\n",
      "Epoch 2/500\n",
      "224/224 [==============================] - 0s 1ms/step - loss: 0.0725 - mse: 0.0196 - mae: 0.1089\n",
      "Epoch 3/500\n",
      "224/224 [==============================] - 0s 1ms/step - loss: 0.0718 - mse: 0.0192 - mae: 0.1078\n",
      "Epoch 4/500\n",
      "224/224 [==============================] - 0s 1ms/step - loss: 0.0707 - mse: 0.0186 - mae: 0.1066\n",
      "Epoch 5/500\n",
      "224/224 [==============================] - 0s 1ms/step - loss: 0.0715 - mse: 0.0191 - mae: 0.1080\n",
      "Epoch 6/500\n",
      "224/224 [==============================] - 0s 1ms/step - loss: 0.0710 - mse: 0.0187 - mae: 0.1073\n",
      "Epoch 7/500\n",
      "224/224 [==============================] - 0s 1ms/step - loss: 0.0707 - mse: 0.0186 - mae: 0.1059\n",
      "Epoch 8/500\n",
      "224/224 [==============================] - 0s 1ms/step - loss: 0.0699 - mse: 0.0182 - mae: 0.1056\n",
      "Epoch 9/500\n",
      "224/224 [==============================] - 0s 1ms/step - loss: 0.0701 - mse: 0.0182 - mae: 0.1056\n",
      "Epoch 10/500\n",
      "224/224 [==============================] - 0s 1ms/step - loss: 0.0698 - mse: 0.0181 - mae: 0.1053\n",
      "Epoch 11/500\n",
      "224/224 [==============================] - 0s 1ms/step - loss: 0.0695 - mse: 0.0180 - mae: 0.1045\n",
      "Epoch 12/500\n",
      "224/224 [==============================] - 0s 1ms/step - loss: 0.0695 - mse: 0.0180 - mae: 0.1048\n",
      "Epoch 13/500\n",
      "224/224 [==============================] - 0s 1ms/step - loss: 0.0690 - mse: 0.0177 - mae: 0.1041\n",
      "Epoch 14/500\n",
      "224/224 [==============================] - 0s 1ms/step - loss: 0.0687 - mse: 0.0175 - mae: 0.1034\n",
      "Epoch 15/500\n",
      "224/224 [==============================] - 0s 1ms/step - loss: 0.0687 - mse: 0.0176 - mae: 0.1036\n",
      "Epoch 16/500\n",
      "224/224 [==============================] - 0s 1ms/step - loss: 0.0682 - mse: 0.0173 - mae: 0.1027\n",
      "Epoch 17/500\n",
      "224/224 [==============================] - 0s 1ms/step - loss: 0.0682 - mse: 0.0174 - mae: 0.1029\n",
      "Epoch 18/500\n",
      "224/224 [==============================] - 0s 1ms/step - loss: 0.0684 - mse: 0.0174 - mae: 0.1031\n",
      "Epoch 19/500\n",
      "224/224 [==============================] - 0s 2ms/step - loss: 0.0682 - mse: 0.0174 - mae: 0.1029\n",
      "Epoch 20/500\n",
      "224/224 [==============================] - 0s 2ms/step - loss: 0.0679 - mse: 0.0171 - mae: 0.1023\n",
      "Epoch 21/500\n",
      "224/224 [==============================] - 0s 1ms/step - loss: 0.0676 - mse: 0.0170 - mae: 0.1019\n",
      "Epoch 22/500\n",
      "224/224 [==============================] - 0s 1ms/step - loss: 0.0676 - mse: 0.0170 - mae: 0.1019\n",
      "Epoch 23/500\n",
      "224/224 [==============================] - 0s 1ms/step - loss: 0.0675 - mse: 0.0170 - mae: 0.1017\n",
      "Epoch 24/500\n",
      "224/224 [==============================] - 0s 1ms/step - loss: 0.0675 - mse: 0.0170 - mae: 0.1020\n",
      "Epoch 25/500\n",
      "224/224 [==============================] - 0s 1ms/step - loss: 0.0674 - mse: 0.0169 - mae: 0.1015\n",
      "Epoch 26/500\n",
      "224/224 [==============================] - 0s 1ms/step - loss: 0.0673 - mse: 0.0169 - mae: 0.1016\n",
      "Epoch 27/500\n",
      "224/224 [==============================] - 0s 1ms/step - loss: 0.0669 - mse: 0.0167 - mae: 0.1010\n",
      "Epoch 28/500\n",
      "224/224 [==============================] - 0s 1ms/step - loss: 0.0671 - mse: 0.0168 - mae: 0.1012\n",
      "Epoch 29/500\n",
      "224/224 [==============================] - 0s 1ms/step - loss: 0.0669 - mse: 0.0167 - mae: 0.1009\n",
      "Epoch 30/500\n",
      "224/224 [==============================] - 0s 1ms/step - loss: 0.0671 - mse: 0.0168 - mae: 0.1013\n",
      "Epoch 31/500\n",
      "224/224 [==============================] - 0s 1ms/step - loss: 0.0669 - mse: 0.0167 - mae: 0.1010\n",
      "Epoch 32/500\n",
      "224/224 [==============================] - 0s 1ms/step - loss: 0.0665 - mse: 0.0165 - mae: 0.1005\n",
      "Epoch 33/500\n",
      "224/224 [==============================] - 0s 1ms/step - loss: 0.0663 - mse: 0.0165 - mae: 0.1002\n",
      "Epoch 34/500\n",
      "224/224 [==============================] - 0s 2ms/step - loss: 0.0662 - mse: 0.0163 - mae: 0.0997\n",
      "Epoch 35/500\n",
      "224/224 [==============================] - 0s 1ms/step - loss: 0.0667 - mse: 0.0166 - mae: 0.1004\n",
      "Epoch 36/500\n",
      "224/224 [==============================] - 0s 2ms/step - loss: 0.0662 - mse: 0.0163 - mae: 0.0993\n",
      "Epoch 37/500\n",
      "224/224 [==============================] - 0s 1ms/step - loss: 0.0660 - mse: 0.0163 - mae: 0.0996\n",
      "Epoch 38/500\n",
      "224/224 [==============================] - 0s 1ms/step - loss: 0.0661 - mse: 0.0163 - mae: 0.0999\n",
      "Epoch 39/500\n",
      "224/224 [==============================] - 0s 1ms/step - loss: 0.0658 - mse: 0.0161 - mae: 0.0994\n",
      "Epoch 40/500\n",
      "224/224 [==============================] - 0s 1ms/step - loss: 0.0659 - mse: 0.0162 - mae: 0.0990\n",
      "Epoch 41/500\n",
      "224/224 [==============================] - 0s 1ms/step - loss: 0.0658 - mse: 0.0161 - mae: 0.0989\n",
      "Epoch 42/500\n",
      "224/224 [==============================] - 0s 1ms/step - loss: 0.0656 - mse: 0.0160 - mae: 0.0991\n",
      "Epoch 43/500\n",
      "224/224 [==============================] - 0s 2ms/step - loss: 0.0656 - mse: 0.0160 - mae: 0.0991\n",
      "Epoch 44/500\n",
      "224/224 [==============================] - 0s 1ms/step - loss: 0.0651 - mse: 0.0158 - mae: 0.0984\n",
      "Epoch 45/500\n",
      "224/224 [==============================] - 0s 2ms/step - loss: 0.0657 - mse: 0.0161 - mae: 0.0991\n",
      "Epoch 46/500\n",
      "224/224 [==============================] - 0s 1ms/step - loss: 0.0650 - mse: 0.0157 - mae: 0.0977\n",
      "Epoch 47/500\n",
      "224/224 [==============================] - 0s 1ms/step - loss: 0.0654 - mse: 0.0159 - mae: 0.0983\n",
      "Epoch 48/500\n",
      "224/224 [==============================] - 0s 1ms/step - loss: 0.0651 - mse: 0.0158 - mae: 0.0983\n",
      "Epoch 49/500\n",
      "224/224 [==============================] - 0s 1ms/step - loss: 0.0647 - mse: 0.0156 - mae: 0.0982\n",
      "Epoch 50/500\n",
      "224/224 [==============================] - 0s 1ms/step - loss: 0.0648 - mse: 0.0156 - mae: 0.0977\n",
      "Epoch 51/500\n",
      "224/224 [==============================] - 0s 1ms/step - loss: 0.0647 - mse: 0.0156 - mae: 0.0975\n",
      "Epoch 52/500\n",
      "224/224 [==============================] - 0s 1ms/step - loss: 0.0649 - mse: 0.0157 - mae: 0.0979\n",
      "Epoch 53/500\n",
      "224/224 [==============================] - 0s 1ms/step - loss: 0.0642 - mse: 0.0153 - mae: 0.0969\n",
      "Epoch 54/500\n",
      "224/224 [==============================] - 0s 1ms/step - loss: 0.0647 - mse: 0.0156 - mae: 0.0980\n",
      "Epoch 55/500\n",
      "224/224 [==============================] - 0s 1ms/step - loss: 0.0645 - mse: 0.0155 - mae: 0.0971\n",
      "Epoch 56/500\n",
      "224/224 [==============================] - 0s 1ms/step - loss: 0.0645 - mse: 0.0155 - mae: 0.0972\n",
      "Epoch 57/500\n",
      "224/224 [==============================] - 0s 1ms/step - loss: 0.0644 - mse: 0.0154 - mae: 0.0972\n",
      "Epoch 58/500\n",
      "224/224 [==============================] - 0s 1ms/step - loss: 0.0643 - mse: 0.0154 - mae: 0.0971\n",
      "Epoch 59/500\n",
      "224/224 [==============================] - 0s 1ms/step - loss: 0.0645 - mse: 0.0155 - mae: 0.0972\n",
      "Epoch 60/500\n",
      "224/224 [==============================] - 0s 1ms/step - loss: 0.0642 - mse: 0.0154 - mae: 0.0970\n",
      "Epoch 61/500\n",
      "224/224 [==============================] - 0s 1ms/step - loss: 0.0641 - mse: 0.0153 - mae: 0.0965\n",
      "Epoch 62/500\n",
      "224/224 [==============================] - 0s 2ms/step - loss: 0.0636 - mse: 0.0150 - mae: 0.0960\n",
      "Epoch 63/500\n",
      "224/224 [==============================] - 0s 1ms/step - loss: 0.0641 - mse: 0.0153 - mae: 0.0969\n",
      "Epoch 64/500\n",
      "224/224 [==============================] - 0s 1ms/step - loss: 0.0632 - mse: 0.0148 - mae: 0.0953\n",
      "Epoch 65/500\n",
      "224/224 [==============================] - 0s 2ms/step - loss: 0.0637 - mse: 0.0151 - mae: 0.0964\n",
      "Epoch 66/500\n",
      "224/224 [==============================] - 0s 1ms/step - loss: 0.0637 - mse: 0.0151 - mae: 0.0961\n",
      "Epoch 67/500\n",
      "224/224 [==============================] - 0s 1ms/step - loss: 0.0639 - mse: 0.0152 - mae: 0.0966\n",
      "Epoch 68/500\n",
      "224/224 [==============================] - 0s 1ms/step - loss: 0.0635 - mse: 0.0150 - mae: 0.0960\n",
      "Epoch 69/500\n",
      "224/224 [==============================] - 0s 1ms/step - loss: 0.0631 - mse: 0.0148 - mae: 0.0952\n",
      "Epoch 70/500\n",
      "224/224 [==============================] - 0s 1ms/step - loss: 0.0632 - mse: 0.0149 - mae: 0.0952\n",
      "Epoch 71/500\n",
      "224/224 [==============================] - 0s 2ms/step - loss: 0.0634 - mse: 0.0149 - mae: 0.0954\n",
      "Epoch 72/500\n",
      "224/224 [==============================] - 0s 2ms/step - loss: 0.0630 - mse: 0.0148 - mae: 0.0949\n",
      "Epoch 73/500\n",
      "224/224 [==============================] - 0s 1ms/step - loss: 0.0631 - mse: 0.0148 - mae: 0.0953\n",
      "Epoch 74/500\n",
      "224/224 [==============================] - 0s 1ms/step - loss: 0.0629 - mse: 0.0146 - mae: 0.0947\n",
      "Epoch 75/500\n",
      "224/224 [==============================] - 0s 1ms/step - loss: 0.0629 - mse: 0.0147 - mae: 0.0949\n",
      "Epoch 76/500\n",
      "224/224 [==============================] - 0s 1ms/step - loss: 0.0624 - mse: 0.0145 - mae: 0.0940\n",
      "Epoch 77/500\n",
      "224/224 [==============================] - 0s 1ms/step - loss: 0.0630 - mse: 0.0148 - mae: 0.0947\n",
      "Epoch 78/500\n",
      "224/224 [==============================] - 0s 1ms/step - loss: 0.0631 - mse: 0.0148 - mae: 0.0953\n",
      "Epoch 79/500\n",
      "224/224 [==============================] - 0s 1ms/step - loss: 0.0625 - mse: 0.0145 - mae: 0.0941\n",
      "Epoch 80/500\n",
      "224/224 [==============================] - 0s 2ms/step - loss: 0.0624 - mse: 0.0145 - mae: 0.0944\n",
      "Epoch 81/500\n",
      "224/224 [==============================] - 0s 2ms/step - loss: 0.0626 - mse: 0.0146 - mae: 0.0945\n",
      "Epoch 82/500\n",
      "224/224 [==============================] - 0s 1ms/step - loss: 0.0630 - mse: 0.0148 - mae: 0.0946\n",
      "Epoch 83/500\n",
      "224/224 [==============================] - 0s 2ms/step - loss: 0.0624 - mse: 0.0144 - mae: 0.0941\n",
      "Epoch 84/500\n",
      "224/224 [==============================] - 0s 1ms/step - loss: 0.0626 - mse: 0.0145 - mae: 0.0938\n",
      "Epoch 85/500\n",
      "224/224 [==============================] - 0s 1ms/step - loss: 0.0624 - mse: 0.0144 - mae: 0.0937\n",
      "Epoch 86/500\n",
      "224/224 [==============================] - 0s 1ms/step - loss: 0.0626 - mse: 0.0145 - mae: 0.0941\n",
      "Epoch 87/500\n",
      "224/224 [==============================] - 0s 1ms/step - loss: 0.0625 - mse: 0.0145 - mae: 0.0937\n",
      "Epoch 88/500\n",
      "224/224 [==============================] - 0s 1ms/step - loss: 0.0620 - mse: 0.0142 - mae: 0.0932\n",
      "Epoch 89/500\n",
      "224/224 [==============================] - 0s 1ms/step - loss: 0.0621 - mse: 0.0143 - mae: 0.0933\n",
      "Epoch 90/500\n",
      "224/224 [==============================] - 0s 1ms/step - loss: 0.0620 - mse: 0.0143 - mae: 0.0933\n",
      "Epoch 91/500\n",
      "224/224 [==============================] - 0s 1ms/step - loss: 0.0621 - mse: 0.0143 - mae: 0.0931\n",
      "Epoch 92/500\n",
      "224/224 [==============================] - 0s 1ms/step - loss: 0.0617 - mse: 0.0141 - mae: 0.0927\n",
      "Epoch 93/500\n",
      "224/224 [==============================] - 0s 2ms/step - loss: 0.0614 - mse: 0.0139 - mae: 0.0925\n",
      "Epoch 94/500\n",
      "224/224 [==============================] - 0s 1ms/step - loss: 0.0617 - mse: 0.0142 - mae: 0.0926\n",
      "Epoch 95/500\n",
      "224/224 [==============================] - 0s 1ms/step - loss: 0.0616 - mse: 0.0141 - mae: 0.0927\n",
      "Epoch 96/500\n",
      "224/224 [==============================] - 0s 2ms/step - loss: 0.0613 - mse: 0.0139 - mae: 0.0921\n",
      "Epoch 97/500\n",
      "224/224 [==============================] - 0s 1ms/step - loss: 0.0619 - mse: 0.0142 - mae: 0.0927\n",
      "Epoch 98/500\n",
      "224/224 [==============================] - 0s 2ms/step - loss: 0.0618 - mse: 0.0141 - mae: 0.0930\n",
      "Epoch 99/500\n",
      "224/224 [==============================] - 0s 1ms/step - loss: 0.0615 - mse: 0.0140 - mae: 0.0921\n",
      "Epoch 100/500\n",
      "224/224 [==============================] - 0s 1ms/step - loss: 0.0609 - mse: 0.0137 - mae: 0.0915\n",
      "Epoch 101/500\n",
      "224/224 [==============================] - 0s 1ms/step - loss: 0.0612 - mse: 0.0138 - mae: 0.0920\n",
      "Epoch 102/500\n",
      "224/224 [==============================] - 0s 1ms/step - loss: 0.0613 - mse: 0.0139 - mae: 0.0920\n",
      "Epoch 103/500\n",
      "224/224 [==============================] - 0s 1ms/step - loss: 0.0613 - mse: 0.0138 - mae: 0.0917\n",
      "Epoch 104/500\n",
      "224/224 [==============================] - 0s 1ms/step - loss: 0.0609 - mse: 0.0137 - mae: 0.0914\n",
      "Epoch 105/500\n",
      "224/224 [==============================] - 0s 1ms/step - loss: 0.0611 - mse: 0.0137 - mae: 0.0919\n",
      "Epoch 106/500\n",
      "224/224 [==============================] - 0s 2ms/step - loss: 0.0610 - mse: 0.0137 - mae: 0.0914\n",
      "Epoch 107/500\n",
      "224/224 [==============================] - 0s 1ms/step - loss: 0.0611 - mse: 0.0138 - mae: 0.0914\n",
      "Epoch 108/500\n",
      "224/224 [==============================] - 0s 1ms/step - loss: 0.0611 - mse: 0.0137 - mae: 0.0913\n",
      "Epoch 109/500\n",
      "224/224 [==============================] - 0s 1ms/step - loss: 0.0606 - mse: 0.0136 - mae: 0.0909\n",
      "Epoch 110/500\n",
      "224/224 [==============================] - 0s 1ms/step - loss: 0.0607 - mse: 0.0136 - mae: 0.0910\n",
      "Epoch 111/500\n",
      "224/224 [==============================] - 0s 1ms/step - loss: 0.0606 - mse: 0.0135 - mae: 0.0908\n",
      "Epoch 112/500\n",
      "224/224 [==============================] - 0s 1ms/step - loss: 0.0604 - mse: 0.0134 - mae: 0.0907\n",
      "Epoch 113/500\n",
      "224/224 [==============================] - 0s 1ms/step - loss: 0.0608 - mse: 0.0136 - mae: 0.0909\n",
      "Epoch 114/500\n",
      "224/224 [==============================] - 0s 1ms/step - loss: 0.0605 - mse: 0.0134 - mae: 0.0908\n",
      "Epoch 115/500\n",
      "224/224 [==============================] - 0s 1ms/step - loss: 0.0607 - mse: 0.0136 - mae: 0.0909\n",
      "Epoch 116/500\n",
      "224/224 [==============================] - 0s 1ms/step - loss: 0.0606 - mse: 0.0135 - mae: 0.0909\n",
      "Epoch 117/500\n",
      "224/224 [==============================] - 0s 1ms/step - loss: 0.0605 - mse: 0.0134 - mae: 0.0910\n",
      "Epoch 118/500\n",
      "224/224 [==============================] - 0s 1ms/step - loss: 0.0606 - mse: 0.0135 - mae: 0.0908\n",
      "Epoch 119/500\n",
      "224/224 [==============================] - 0s 1ms/step - loss: 0.0609 - mse: 0.0136 - mae: 0.0911\n",
      "Epoch 120/500\n",
      "224/224 [==============================] - 0s 1ms/step - loss: 0.0603 - mse: 0.0133 - mae: 0.0899\n",
      "Epoch 121/500\n",
      "224/224 [==============================] - 0s 1ms/step - loss: 0.0607 - mse: 0.0135 - mae: 0.0909\n",
      "Epoch 122/500\n",
      "224/224 [==============================] - 0s 1ms/step - loss: 0.0606 - mse: 0.0135 - mae: 0.0909\n",
      "Epoch 123/500\n",
      "224/224 [==============================] - 0s 1ms/step - loss: 0.0603 - mse: 0.0134 - mae: 0.0905\n",
      "Epoch 124/500\n",
      "224/224 [==============================] - 0s 1ms/step - loss: 0.0599 - mse: 0.0132 - mae: 0.0896\n",
      "Epoch 125/500\n",
      "224/224 [==============================] - 0s 1ms/step - loss: 0.0604 - mse: 0.0134 - mae: 0.0900\n",
      "Epoch 126/500\n",
      "224/224 [==============================] - 0s 1ms/step - loss: 0.0601 - mse: 0.0133 - mae: 0.0898\n",
      "Epoch 127/500\n",
      "224/224 [==============================] - 0s 1ms/step - loss: 0.0602 - mse: 0.0133 - mae: 0.0900\n",
      "Epoch 128/500\n",
      "224/224 [==============================] - 0s 1ms/step - loss: 0.0600 - mse: 0.0132 - mae: 0.0898\n",
      "Epoch 129/500\n",
      "224/224 [==============================] - 0s 1ms/step - loss: 0.0599 - mse: 0.0132 - mae: 0.0893\n",
      "Epoch 130/500\n",
      "224/224 [==============================] - 0s 2ms/step - loss: 0.0601 - mse: 0.0132 - mae: 0.0897\n",
      "Epoch 131/500\n",
      "224/224 [==============================] - 0s 1ms/step - loss: 0.0595 - mse: 0.0129 - mae: 0.0887\n",
      "Epoch 132/500\n",
      "224/224 [==============================] - 0s 1ms/step - loss: 0.0601 - mse: 0.0132 - mae: 0.0897\n",
      "Epoch 133/500\n",
      "224/224 [==============================] - 0s 1ms/step - loss: 0.0603 - mse: 0.0133 - mae: 0.0902\n",
      "Epoch 134/500\n",
      "224/224 [==============================] - 0s 1ms/step - loss: 0.0594 - mse: 0.0129 - mae: 0.0886\n",
      "Epoch 135/500\n",
      "224/224 [==============================] - 0s 1ms/step - loss: 0.0594 - mse: 0.0129 - mae: 0.0887\n",
      "Epoch 136/500\n",
      "224/224 [==============================] - 0s 2ms/step - loss: 0.0596 - mse: 0.0129 - mae: 0.0888\n",
      "Epoch 137/500\n",
      "224/224 [==============================] - 0s 1ms/step - loss: 0.0599 - mse: 0.0131 - mae: 0.0892\n",
      "Epoch 138/500\n",
      "224/224 [==============================] - 0s 1ms/step - loss: 0.0592 - mse: 0.0128 - mae: 0.0882\n",
      "Epoch 139/500\n",
      "224/224 [==============================] - 0s 1ms/step - loss: 0.0598 - mse: 0.0130 - mae: 0.0891\n",
      "Epoch 140/500\n",
      "224/224 [==============================] - 0s 1ms/step - loss: 0.0596 - mse: 0.0130 - mae: 0.0890\n",
      "Epoch 141/500\n",
      "224/224 [==============================] - 0s 1ms/step - loss: 0.0597 - mse: 0.0130 - mae: 0.0887\n",
      "Epoch 142/500\n",
      "224/224 [==============================] - 0s 2ms/step - loss: 0.0598 - mse: 0.0130 - mae: 0.0891\n",
      "Epoch 143/500\n",
      "224/224 [==============================] - 0s 1ms/step - loss: 0.0596 - mse: 0.0129 - mae: 0.0891\n",
      "Epoch 144/500\n",
      "224/224 [==============================] - 0s 1ms/step - loss: 0.0594 - mse: 0.0129 - mae: 0.0883\n",
      "Epoch 145/500\n",
      "224/224 [==============================] - 0s 1ms/step - loss: 0.0595 - mse: 0.0129 - mae: 0.0886\n",
      "Epoch 146/500\n",
      "224/224 [==============================] - 0s 1ms/step - loss: 0.0591 - mse: 0.0128 - mae: 0.0879\n",
      "Epoch 147/500\n",
      "224/224 [==============================] - 0s 1ms/step - loss: 0.0592 - mse: 0.0128 - mae: 0.0882\n",
      "Epoch 148/500\n",
      "224/224 [==============================] - 0s 1ms/step - loss: 0.0592 - mse: 0.0128 - mae: 0.0881\n",
      "Epoch 149/500\n",
      "224/224 [==============================] - 0s 1ms/step - loss: 0.0592 - mse: 0.0128 - mae: 0.0880\n",
      "Epoch 150/500\n",
      "224/224 [==============================] - 0s 1ms/step - loss: 0.0589 - mse: 0.0126 - mae: 0.0877\n",
      "Epoch 151/500\n",
      "224/224 [==============================] - 0s 2ms/step - loss: 0.0591 - mse: 0.0127 - mae: 0.0881\n",
      "Epoch 152/500\n",
      "224/224 [==============================] - 0s 1ms/step - loss: 0.0589 - mse: 0.0126 - mae: 0.0880\n",
      "Epoch 153/500\n",
      "224/224 [==============================] - 0s 1ms/step - loss: 0.0590 - mse: 0.0126 - mae: 0.0876\n",
      "Epoch 154/500\n",
      "224/224 [==============================] - 0s 1ms/step - loss: 0.0589 - mse: 0.0126 - mae: 0.0875\n",
      "Epoch 155/500\n",
      "224/224 [==============================] - 0s 1ms/step - loss: 0.0585 - mse: 0.0124 - mae: 0.0872\n",
      "Epoch 156/500\n",
      "224/224 [==============================] - 0s 1ms/step - loss: 0.0590 - mse: 0.0126 - mae: 0.0875\n",
      "Epoch 157/500\n",
      "224/224 [==============================] - 0s 1ms/step - loss: 0.0590 - mse: 0.0127 - mae: 0.0877\n",
      "Epoch 158/500\n",
      "224/224 [==============================] - 0s 1ms/step - loss: 0.0587 - mse: 0.0125 - mae: 0.0874\n",
      "Epoch 159/500\n",
      "224/224 [==============================] - 0s 1ms/step - loss: 0.0592 - mse: 0.0127 - mae: 0.0879\n",
      "Epoch 160/500\n",
      "224/224 [==============================] - 0s 2ms/step - loss: 0.0590 - mse: 0.0126 - mae: 0.0876\n",
      "Epoch 161/500\n",
      "224/224 [==============================] - 0s 1ms/step - loss: 0.0585 - mse: 0.0124 - mae: 0.0869\n",
      "Epoch 162/500\n",
      "224/224 [==============================] - 0s 1ms/step - loss: 0.0582 - mse: 0.0123 - mae: 0.0866\n",
      "Epoch 163/500\n",
      "224/224 [==============================] - 0s 2ms/step - loss: 0.0587 - mse: 0.0125 - mae: 0.0877\n",
      "Epoch 164/500\n",
      "224/224 [==============================] - 0s 1ms/step - loss: 0.0587 - mse: 0.0125 - mae: 0.0874\n",
      "Epoch 165/500\n",
      "224/224 [==============================] - 0s 2ms/step - loss: 0.0586 - mse: 0.0124 - mae: 0.0866\n",
      "Epoch 166/500\n",
      "224/224 [==============================] - 0s 1ms/step - loss: 0.0581 - mse: 0.0122 - mae: 0.0862\n",
      "Epoch 167/500\n",
      "224/224 [==============================] - 0s 1ms/step - loss: 0.0588 - mse: 0.0126 - mae: 0.0873\n",
      "Epoch 168/500\n",
      "224/224 [==============================] - 0s 1ms/step - loss: 0.0589 - mse: 0.0125 - mae: 0.0872\n",
      "Epoch 169/500\n",
      "224/224 [==============================] - 0s 1ms/step - loss: 0.0579 - mse: 0.0121 - mae: 0.0858\n",
      "Epoch 170/500\n",
      "224/224 [==============================] - 0s 2ms/step - loss: 0.0584 - mse: 0.0123 - mae: 0.0864\n",
      "Epoch 171/500\n",
      "224/224 [==============================] - 0s 1ms/step - loss: 0.0583 - mse: 0.0123 - mae: 0.0868\n",
      "Epoch 172/500\n",
      "224/224 [==============================] - 0s 1ms/step - loss: 0.0587 - mse: 0.0124 - mae: 0.0870\n",
      "Epoch 173/500\n",
      "224/224 [==============================] - 0s 1ms/step - loss: 0.0584 - mse: 0.0123 - mae: 0.0868\n",
      "Epoch 174/500\n",
      "224/224 [==============================] - 0s 1ms/step - loss: 0.0583 - mse: 0.0123 - mae: 0.0865\n",
      "Epoch 175/500\n",
      "224/224 [==============================] - 0s 1ms/step - loss: 0.0580 - mse: 0.0121 - mae: 0.0856\n",
      "Epoch 176/500\n",
      "224/224 [==============================] - 0s 2ms/step - loss: 0.0580 - mse: 0.0122 - mae: 0.0861\n",
      "Epoch 177/500\n",
      "224/224 [==============================] - 0s 1ms/step - loss: 0.0585 - mse: 0.0124 - mae: 0.0870\n",
      "Epoch 178/500\n",
      "224/224 [==============================] - 0s 1ms/step - loss: 0.0581 - mse: 0.0122 - mae: 0.0860\n",
      "Epoch 179/500\n",
      "224/224 [==============================] - 0s 1ms/step - loss: 0.0579 - mse: 0.0121 - mae: 0.0856\n",
      "Epoch 180/500\n",
      "224/224 [==============================] - 0s 1ms/step - loss: 0.0582 - mse: 0.0122 - mae: 0.0865\n",
      "Epoch 181/500\n",
      "224/224 [==============================] - 0s 2ms/step - loss: 0.0581 - mse: 0.0121 - mae: 0.0859\n",
      "Epoch 182/500\n",
      "224/224 [==============================] - 0s 1ms/step - loss: 0.0581 - mse: 0.0122 - mae: 0.0862\n",
      "Epoch 183/500\n",
      "224/224 [==============================] - 0s 1ms/step - loss: 0.0579 - mse: 0.0121 - mae: 0.0857\n",
      "Epoch 184/500\n",
      "224/224 [==============================] - 0s 1ms/step - loss: 0.0581 - mse: 0.0121 - mae: 0.0859\n",
      "Epoch 185/500\n",
      "224/224 [==============================] - 0s 1ms/step - loss: 0.0576 - mse: 0.0119 - mae: 0.0853\n",
      "Epoch 186/500\n",
      "224/224 [==============================] - 0s 1ms/step - loss: 0.0579 - mse: 0.0120 - mae: 0.0855\n",
      "Epoch 187/500\n",
      "224/224 [==============================] - 0s 1ms/step - loss: 0.0575 - mse: 0.0119 - mae: 0.0850\n",
      "Epoch 188/500\n",
      "224/224 [==============================] - 0s 1ms/step - loss: 0.0577 - mse: 0.0119 - mae: 0.0854\n",
      "Epoch 189/500\n",
      "224/224 [==============================] - 0s 2ms/step - loss: 0.0575 - mse: 0.0119 - mae: 0.0850\n",
      "Epoch 190/500\n",
      "224/224 [==============================] - 0s 2ms/step - loss: 0.0577 - mse: 0.0120 - mae: 0.0856\n",
      "Epoch 191/500\n",
      "224/224 [==============================] - 0s 2ms/step - loss: 0.0579 - mse: 0.0120 - mae: 0.0858\n",
      "Epoch 192/500\n",
      "224/224 [==============================] - 0s 1ms/step - loss: 0.0579 - mse: 0.0120 - mae: 0.0855\n",
      "Epoch 193/500\n",
      "224/224 [==============================] - 0s 1ms/step - loss: 0.0580 - mse: 0.0120 - mae: 0.0852\n",
      "Epoch 194/500\n",
      "224/224 [==============================] - 0s 1ms/step - loss: 0.0577 - mse: 0.0120 - mae: 0.0856\n",
      "Epoch 195/500\n",
      "224/224 [==============================] - 0s 1ms/step - loss: 0.0580 - mse: 0.0120 - mae: 0.0856\n",
      "Epoch 196/500\n",
      "224/224 [==============================] - 0s 1ms/step - loss: 0.0580 - mse: 0.0121 - mae: 0.0862\n",
      "Epoch 197/500\n",
      "224/224 [==============================] - 0s 1ms/step - loss: 0.0576 - mse: 0.0119 - mae: 0.0853\n",
      "Epoch 198/500\n",
      "224/224 [==============================] - 0s 2ms/step - loss: 0.0573 - mse: 0.0118 - mae: 0.0847\n",
      "Epoch 199/500\n",
      "224/224 [==============================] - 0s 1ms/step - loss: 0.0573 - mse: 0.0118 - mae: 0.0846\n",
      "Epoch 200/500\n",
      "224/224 [==============================] - 0s 1ms/step - loss: 0.0576 - mse: 0.0119 - mae: 0.0851\n",
      "Epoch 201/500\n",
      "224/224 [==============================] - 0s 2ms/step - loss: 0.0577 - mse: 0.0119 - mae: 0.0852\n",
      "Epoch 202/500\n",
      "224/224 [==============================] - 0s 2ms/step - loss: 0.0574 - mse: 0.0118 - mae: 0.0850\n",
      "Epoch 203/500\n",
      "224/224 [==============================] - 0s 1ms/step - loss: 0.0578 - mse: 0.0120 - mae: 0.0851\n",
      "Epoch 204/500\n",
      "224/224 [==============================] - 0s 1ms/step - loss: 0.0575 - mse: 0.0118 - mae: 0.0850\n",
      "Epoch 205/500\n",
      "224/224 [==============================] - 0s 1ms/step - loss: 0.0576 - mse: 0.0119 - mae: 0.0849\n",
      "Epoch 206/500\n",
      "224/224 [==============================] - 0s 1ms/step - loss: 0.0573 - mse: 0.0117 - mae: 0.0845\n",
      "Epoch 207/500\n",
      "224/224 [==============================] - 0s 1ms/step - loss: 0.0576 - mse: 0.0119 - mae: 0.0848\n",
      "Epoch 208/500\n",
      "224/224 [==============================] - 0s 1ms/step - loss: 0.0574 - mse: 0.0118 - mae: 0.0846\n",
      "Epoch 209/500\n",
      "224/224 [==============================] - 0s 1ms/step - loss: 0.0574 - mse: 0.0118 - mae: 0.0846\n",
      "Epoch 210/500\n",
      "224/224 [==============================] - 0s 1ms/step - loss: 0.0579 - mse: 0.0120 - mae: 0.0852\n",
      "Epoch 211/500\n",
      "224/224 [==============================] - 0s 1ms/step - loss: 0.0570 - mse: 0.0116 - mae: 0.0836\n",
      "Epoch 212/500\n",
      "224/224 [==============================] - 0s 1ms/step - loss: 0.0577 - mse: 0.0119 - mae: 0.0850\n",
      "Epoch 213/500\n",
      "224/224 [==============================] - 0s 1ms/step - loss: 0.0576 - mse: 0.0118 - mae: 0.0844\n",
      "Epoch 214/500\n",
      "224/224 [==============================] - 0s 1ms/step - loss: 0.0577 - mse: 0.0119 - mae: 0.0850\n",
      "Epoch 215/500\n",
      "224/224 [==============================] - 0s 1ms/step - loss: 0.0572 - mse: 0.0116 - mae: 0.0842\n",
      "Epoch 216/500\n",
      "224/224 [==============================] - 0s 1ms/step - loss: 0.0574 - mse: 0.0118 - mae: 0.0847\n",
      "Epoch 217/500\n",
      "224/224 [==============================] - 0s 1ms/step - loss: 0.0578 - mse: 0.0119 - mae: 0.0849\n",
      "Epoch 218/500\n",
      "224/224 [==============================] - 0s 1ms/step - loss: 0.0573 - mse: 0.0117 - mae: 0.0843\n",
      "Epoch 219/500\n",
      "224/224 [==============================] - 0s 1ms/step - loss: 0.0570 - mse: 0.0116 - mae: 0.0839\n",
      "Epoch 220/500\n",
      "224/224 [==============================] - 0s 1ms/step - loss: 0.0572 - mse: 0.0116 - mae: 0.0842\n",
      "Epoch 221/500\n",
      "224/224 [==============================] - 0s 1ms/step - loss: 0.0571 - mse: 0.0116 - mae: 0.0840\n",
      "Epoch 222/500\n",
      "224/224 [==============================] - 0s 1ms/step - loss: 0.0568 - mse: 0.0115 - mae: 0.0837\n",
      "Epoch 223/500\n",
      "224/224 [==============================] - 0s 1ms/step - loss: 0.0570 - mse: 0.0116 - mae: 0.0837\n",
      "Epoch 224/500\n",
      "224/224 [==============================] - 0s 1ms/step - loss: 0.0568 - mse: 0.0115 - mae: 0.0837\n",
      "Epoch 225/500\n",
      "224/224 [==============================] - 0s 1ms/step - loss: 0.0572 - mse: 0.0116 - mae: 0.0838\n",
      "Epoch 226/500\n",
      "224/224 [==============================] - 0s 1ms/step - loss: 0.0570 - mse: 0.0116 - mae: 0.0840\n",
      "Epoch 227/500\n",
      "224/224 [==============================] - 0s 1ms/step - loss: 0.0573 - mse: 0.0117 - mae: 0.0843\n",
      "Epoch 228/500\n",
      "224/224 [==============================] - 0s 1ms/step - loss: 0.0574 - mse: 0.0117 - mae: 0.0846\n",
      "Epoch 229/500\n",
      "224/224 [==============================] - 0s 1ms/step - loss: 0.0570 - mse: 0.0116 - mae: 0.0838\n",
      "Epoch 230/500\n",
      "224/224 [==============================] - 0s 2ms/step - loss: 0.0574 - mse: 0.0117 - mae: 0.0845\n",
      "Epoch 231/500\n",
      "224/224 [==============================] - 0s 1ms/step - loss: 0.0570 - mse: 0.0116 - mae: 0.0835\n",
      "Epoch 232/500\n",
      "224/224 [==============================] - 0s 1ms/step - loss: 0.0570 - mse: 0.0115 - mae: 0.0840\n",
      "Epoch 233/500\n",
      "224/224 [==============================] - 0s 1ms/step - loss: 0.0572 - mse: 0.0116 - mae: 0.0837\n",
      "Epoch 234/500\n",
      "224/224 [==============================] - 0s 1ms/step - loss: 0.0568 - mse: 0.0114 - mae: 0.0833\n",
      "Epoch 235/500\n",
      "224/224 [==============================] - 0s 1ms/step - loss: 0.0572 - mse: 0.0116 - mae: 0.0839\n",
      "Epoch 236/500\n",
      "224/224 [==============================] - 0s 1ms/step - loss: 0.0570 - mse: 0.0116 - mae: 0.0835\n",
      "Epoch 237/500\n",
      "224/224 [==============================] - 0s 2ms/step - loss: 0.0569 - mse: 0.0115 - mae: 0.0842\n",
      "Epoch 238/500\n",
      "224/224 [==============================] - 0s 1ms/step - loss: 0.0568 - mse: 0.0114 - mae: 0.0833\n",
      "Epoch 239/500\n",
      "224/224 [==============================] - 0s 1ms/step - loss: 0.0569 - mse: 0.0115 - mae: 0.0835\n",
      "Epoch 240/500\n",
      "224/224 [==============================] - 0s 1ms/step - loss: 0.0569 - mse: 0.0115 - mae: 0.0836\n",
      "Epoch 241/500\n",
      "224/224 [==============================] - 0s 1ms/step - loss: 0.0568 - mse: 0.0114 - mae: 0.0830\n",
      "Epoch 242/500\n",
      "224/224 [==============================] - 0s 1ms/step - loss: 0.0568 - mse: 0.0115 - mae: 0.0833\n",
      "Epoch 243/500\n",
      "224/224 [==============================] - 0s 1ms/step - loss: 0.0566 - mse: 0.0113 - mae: 0.0828\n",
      "Epoch 244/500\n",
      "224/224 [==============================] - 0s 1ms/step - loss: 0.0566 - mse: 0.0114 - mae: 0.0828\n",
      "Epoch 245/500\n",
      "224/224 [==============================] - 0s 1ms/step - loss: 0.0569 - mse: 0.0115 - mae: 0.0835\n",
      "Epoch 246/500\n",
      "224/224 [==============================] - 0s 1ms/step - loss: 0.0563 - mse: 0.0112 - mae: 0.0826\n",
      "Epoch 247/500\n",
      "224/224 [==============================] - 0s 1ms/step - loss: 0.0568 - mse: 0.0114 - mae: 0.0833\n",
      "Epoch 248/500\n",
      "224/224 [==============================] - 0s 2ms/step - loss: 0.0569 - mse: 0.0114 - mae: 0.0834\n",
      "Epoch 249/500\n",
      "224/224 [==============================] - 0s 1ms/step - loss: 0.0565 - mse: 0.0113 - mae: 0.0829\n",
      "Epoch 250/500\n",
      "224/224 [==============================] - 0s 1ms/step - loss: 0.0564 - mse: 0.0113 - mae: 0.0824\n",
      "Epoch 251/500\n",
      "224/224 [==============================] - 0s 1ms/step - loss: 0.0568 - mse: 0.0114 - mae: 0.0832\n",
      "Epoch 252/500\n",
      "224/224 [==============================] - 0s 1ms/step - loss: 0.0568 - mse: 0.0114 - mae: 0.0830\n",
      "Epoch 253/500\n",
      "224/224 [==============================] - 0s 1ms/step - loss: 0.0567 - mse: 0.0114 - mae: 0.0831\n",
      "Epoch 254/500\n",
      "224/224 [==============================] - 0s 1ms/step - loss: 0.0571 - mse: 0.0115 - mae: 0.0835\n",
      "Epoch 255/500\n",
      "224/224 [==============================] - 0s 1ms/step - loss: 0.0571 - mse: 0.0115 - mae: 0.0835\n",
      "Epoch 256/500\n",
      "224/224 [==============================] - 0s 1ms/step - loss: 0.0567 - mse: 0.0113 - mae: 0.0830\n",
      "Epoch 257/500\n",
      "224/224 [==============================] - 0s 1ms/step - loss: 0.0564 - mse: 0.0112 - mae: 0.0829\n",
      "Epoch 258/500\n",
      "224/224 [==============================] - 0s 1ms/step - loss: 0.0564 - mse: 0.0112 - mae: 0.0826\n",
      "Epoch 259/500\n",
      "224/224 [==============================] - 0s 2ms/step - loss: 0.0568 - mse: 0.0114 - mae: 0.0830\n",
      "Epoch 260/500\n",
      "224/224 [==============================] - 0s 2ms/step - loss: 0.0564 - mse: 0.0112 - mae: 0.0824\n",
      "Epoch 261/500\n",
      "224/224 [==============================] - 0s 2ms/step - loss: 0.0568 - mse: 0.0114 - mae: 0.0834\n",
      "Epoch 262/500\n",
      "224/224 [==============================] - 0s 2ms/step - loss: 0.0564 - mse: 0.0112 - mae: 0.0827\n",
      "Epoch 263/500\n",
      "224/224 [==============================] - 0s 1ms/step - loss: 0.0567 - mse: 0.0114 - mae: 0.0829\n",
      "Epoch 264/500\n",
      "224/224 [==============================] - 0s 1ms/step - loss: 0.0566 - mse: 0.0113 - mae: 0.0832\n",
      "Epoch 265/500\n",
      "224/224 [==============================] - 0s 1ms/step - loss: 0.0564 - mse: 0.0112 - mae: 0.0823\n",
      "Epoch 266/500\n",
      "224/224 [==============================] - 0s 1ms/step - loss: 0.0560 - mse: 0.0110 - mae: 0.0817\n",
      "Epoch 267/500\n",
      "224/224 [==============================] - 0s 1ms/step - loss: 0.0562 - mse: 0.0111 - mae: 0.0820\n",
      "Epoch 268/500\n",
      "224/224 [==============================] - 0s 1ms/step - loss: 0.0563 - mse: 0.0112 - mae: 0.0821\n",
      "Epoch 269/500\n",
      "224/224 [==============================] - 0s 1ms/step - loss: 0.0565 - mse: 0.0112 - mae: 0.0823\n",
      "Epoch 270/500\n",
      "224/224 [==============================] - 0s 2ms/step - loss: 0.0562 - mse: 0.0111 - mae: 0.0821\n",
      "Epoch 271/500\n",
      "224/224 [==============================] - 0s 2ms/step - loss: 0.0561 - mse: 0.0111 - mae: 0.0821\n",
      "Epoch 272/500\n",
      "224/224 [==============================] - 0s 1ms/step - loss: 0.0557 - mse: 0.0109 - mae: 0.0813\n",
      "Epoch 273/500\n",
      "224/224 [==============================] - 0s 2ms/step - loss: 0.0563 - mse: 0.0112 - mae: 0.0823\n",
      "Epoch 274/500\n",
      "224/224 [==============================] - 0s 1ms/step - loss: 0.0559 - mse: 0.0110 - mae: 0.0818\n",
      "Epoch 275/500\n",
      "224/224 [==============================] - 0s 1ms/step - loss: 0.0561 - mse: 0.0111 - mae: 0.0818\n",
      "Epoch 276/500\n",
      "224/224 [==============================] - 0s 1ms/step - loss: 0.0562 - mse: 0.0111 - mae: 0.0817\n",
      "Epoch 277/500\n",
      "224/224 [==============================] - 0s 1ms/step - loss: 0.0563 - mse: 0.0112 - mae: 0.0821\n",
      "Epoch 278/500\n",
      "224/224 [==============================] - 0s 1ms/step - loss: 0.0559 - mse: 0.0110 - mae: 0.0818\n",
      "Epoch 279/500\n",
      "224/224 [==============================] - 0s 2ms/step - loss: 0.0556 - mse: 0.0109 - mae: 0.0813\n",
      "Epoch 280/500\n",
      "224/224 [==============================] - 0s 1ms/step - loss: 0.0565 - mse: 0.0113 - mae: 0.0826\n",
      "Epoch 281/500\n",
      "224/224 [==============================] - 0s 1ms/step - loss: 0.0564 - mse: 0.0112 - mae: 0.0826\n",
      "Epoch 282/500\n",
      "224/224 [==============================] - 0s 1ms/step - loss: 0.0557 - mse: 0.0110 - mae: 0.0814\n",
      "Epoch 283/500\n",
      "224/224 [==============================] - 0s 1ms/step - loss: 0.0567 - mse: 0.0113 - mae: 0.0830\n",
      "Epoch 284/500\n",
      "224/224 [==============================] - 0s 1ms/step - loss: 0.0561 - mse: 0.0110 - mae: 0.0821\n",
      "Epoch 285/500\n",
      "224/224 [==============================] - 0s 1ms/step - loss: 0.0564 - mse: 0.0112 - mae: 0.0823\n",
      "Epoch 286/500\n",
      "224/224 [==============================] - 0s 2ms/step - loss: 0.0568 - mse: 0.0113 - mae: 0.0830\n",
      "Epoch 287/500\n",
      "224/224 [==============================] - 0s 1ms/step - loss: 0.0559 - mse: 0.0110 - mae: 0.0813\n",
      "Epoch 288/500\n",
      "224/224 [==============================] - 0s 1ms/step - loss: 0.0559 - mse: 0.0110 - mae: 0.0816\n",
      "Epoch 289/500\n",
      "224/224 [==============================] - 0s 1ms/step - loss: 0.0559 - mse: 0.0109 - mae: 0.0812\n",
      "Epoch 290/500\n",
      "224/224 [==============================] - 0s 1ms/step - loss: 0.0558 - mse: 0.0109 - mae: 0.0813\n",
      "Epoch 291/500\n",
      "224/224 [==============================] - 0s 1ms/step - loss: 0.0557 - mse: 0.0109 - mae: 0.0812\n",
      "Epoch 292/500\n",
      "224/224 [==============================] - 0s 1ms/step - loss: 0.0557 - mse: 0.0109 - mae: 0.0813\n",
      "Epoch 293/500\n",
      "224/224 [==============================] - 0s 1ms/step - loss: 0.0563 - mse: 0.0112 - mae: 0.0821\n",
      "Epoch 294/500\n",
      "224/224 [==============================] - 0s 2ms/step - loss: 0.0563 - mse: 0.0111 - mae: 0.0817\n",
      "Epoch 295/500\n",
      "224/224 [==============================] - 0s 2ms/step - loss: 0.0560 - mse: 0.0110 - mae: 0.0817\n",
      "Epoch 296/500\n",
      "224/224 [==============================] - 0s 1ms/step - loss: 0.0557 - mse: 0.0108 - mae: 0.0812\n",
      "Epoch 297/500\n",
      "224/224 [==============================] - 0s 1ms/step - loss: 0.0557 - mse: 0.0108 - mae: 0.0810\n",
      "Epoch 298/500\n",
      "224/224 [==============================] - 0s 2ms/step - loss: 0.0556 - mse: 0.0108 - mae: 0.0811\n",
      "Epoch 299/500\n",
      "224/224 [==============================] - 0s 1ms/step - loss: 0.0561 - mse: 0.0110 - mae: 0.0815\n",
      "Epoch 300/500\n",
      "224/224 [==============================] - 0s 1ms/step - loss: 0.0559 - mse: 0.0109 - mae: 0.0814\n",
      "Epoch 301/500\n",
      "224/224 [==============================] - 0s 1ms/step - loss: 0.0565 - mse: 0.0112 - mae: 0.0821\n",
      "Epoch 302/500\n",
      "224/224 [==============================] - 0s 1ms/step - loss: 0.0559 - mse: 0.0110 - mae: 0.0817\n",
      "Epoch 303/500\n",
      "224/224 [==============================] - 0s 1ms/step - loss: 0.0555 - mse: 0.0108 - mae: 0.0811\n",
      "Epoch 304/500\n",
      "224/224 [==============================] - 0s 1ms/step - loss: 0.0557 - mse: 0.0109 - mae: 0.0814\n",
      "Epoch 305/500\n",
      "224/224 [==============================] - 0s 2ms/step - loss: 0.0558 - mse: 0.0109 - mae: 0.0809\n",
      "Epoch 306/500\n",
      "224/224 [==============================] - 0s 1ms/step - loss: 0.0558 - mse: 0.0109 - mae: 0.0814\n",
      "Epoch 307/500\n",
      "224/224 [==============================] - 0s 1ms/step - loss: 0.0560 - mse: 0.0110 - mae: 0.0816\n",
      "Epoch 308/500\n",
      "224/224 [==============================] - 0s 1ms/step - loss: 0.0555 - mse: 0.0108 - mae: 0.0808\n",
      "Epoch 309/500\n",
      "224/224 [==============================] - 0s 2ms/step - loss: 0.0555 - mse: 0.0108 - mae: 0.0807\n",
      "Epoch 310/500\n",
      "224/224 [==============================] - 0s 1ms/step - loss: 0.0557 - mse: 0.0108 - mae: 0.0813\n",
      "Epoch 311/500\n",
      "224/224 [==============================] - 0s 1ms/step - loss: 0.0558 - mse: 0.0109 - mae: 0.0808\n",
      "Epoch 312/500\n",
      "224/224 [==============================] - 0s 1ms/step - loss: 0.0553 - mse: 0.0107 - mae: 0.0803\n",
      "Epoch 313/500\n",
      "224/224 [==============================] - 0s 2ms/step - loss: 0.0560 - mse: 0.0110 - mae: 0.0815\n",
      "Epoch 314/500\n",
      "224/224 [==============================] - 0s 1ms/step - loss: 0.0555 - mse: 0.0107 - mae: 0.0809\n",
      "Epoch 315/500\n",
      "224/224 [==============================] - 0s 1ms/step - loss: 0.0556 - mse: 0.0108 - mae: 0.0808\n",
      "Epoch 316/500\n",
      "224/224 [==============================] - 0s 2ms/step - loss: 0.0554 - mse: 0.0107 - mae: 0.0808\n",
      "Epoch 317/500\n",
      "224/224 [==============================] - 0s 1ms/step - loss: 0.0557 - mse: 0.0108 - mae: 0.0809\n",
      "Epoch 318/500\n",
      "224/224 [==============================] - 0s 1ms/step - loss: 0.0560 - mse: 0.0110 - mae: 0.0817\n",
      "Epoch 319/500\n",
      "224/224 [==============================] - 0s 1ms/step - loss: 0.0551 - mse: 0.0106 - mae: 0.0799\n",
      "Epoch 320/500\n",
      "224/224 [==============================] - 0s 1ms/step - loss: 0.0559 - mse: 0.0109 - mae: 0.0813\n",
      "Epoch 321/500\n",
      "224/224 [==============================] - 0s 1ms/step - loss: 0.0554 - mse: 0.0107 - mae: 0.0803\n",
      "Epoch 322/500\n",
      "224/224 [==============================] - 0s 1ms/step - loss: 0.0557 - mse: 0.0109 - mae: 0.0812\n",
      "Epoch 323/500\n",
      "224/224 [==============================] - 0s 1ms/step - loss: 0.0556 - mse: 0.0107 - mae: 0.0805\n",
      "Epoch 324/500\n",
      "224/224 [==============================] - 0s 1ms/step - loss: 0.0553 - mse: 0.0106 - mae: 0.0802\n",
      "Epoch 325/500\n",
      "224/224 [==============================] - 0s 1ms/step - loss: 0.0559 - mse: 0.0109 - mae: 0.0810\n",
      "Epoch 326/500\n",
      "224/224 [==============================] - 0s 1ms/step - loss: 0.0558 - mse: 0.0109 - mae: 0.0811\n",
      "Epoch 327/500\n",
      "224/224 [==============================] - 0s 1ms/step - loss: 0.0552 - mse: 0.0106 - mae: 0.0805\n",
      "Epoch 328/500\n",
      "224/224 [==============================] - 0s 1ms/step - loss: 0.0556 - mse: 0.0108 - mae: 0.0808\n",
      "Epoch 329/500\n",
      "224/224 [==============================] - 0s 1ms/step - loss: 0.0556 - mse: 0.0107 - mae: 0.0808\n",
      "Epoch 330/500\n",
      "224/224 [==============================] - 0s 1ms/step - loss: 0.0558 - mse: 0.0108 - mae: 0.0807\n",
      "Epoch 331/500\n",
      "224/224 [==============================] - 0s 1ms/step - loss: 0.0555 - mse: 0.0107 - mae: 0.0803\n",
      "Epoch 332/500\n",
      "224/224 [==============================] - 0s 1ms/step - loss: 0.0554 - mse: 0.0107 - mae: 0.0805\n",
      "Epoch 333/500\n",
      "224/224 [==============================] - 0s 1ms/step - loss: 0.0556 - mse: 0.0108 - mae: 0.0808\n",
      "Epoch 334/500\n",
      "224/224 [==============================] - 0s 1ms/step - loss: 0.0552 - mse: 0.0106 - mae: 0.0801\n",
      "Epoch 335/500\n",
      "224/224 [==============================] - 0s 1ms/step - loss: 0.0556 - mse: 0.0108 - mae: 0.0807\n",
      "Epoch 336/500\n",
      "224/224 [==============================] - 0s 1ms/step - loss: 0.0555 - mse: 0.0107 - mae: 0.0804\n",
      "Epoch 337/500\n",
      "224/224 [==============================] - 0s 1ms/step - loss: 0.0552 - mse: 0.0106 - mae: 0.0801\n",
      "Epoch 338/500\n",
      "224/224 [==============================] - 0s 2ms/step - loss: 0.0557 - mse: 0.0108 - mae: 0.0807\n",
      "Epoch 339/500\n",
      "224/224 [==============================] - 0s 1ms/step - loss: 0.0557 - mse: 0.0108 - mae: 0.0809\n",
      "Epoch 340/500\n",
      "224/224 [==============================] - 0s 1ms/step - loss: 0.0558 - mse: 0.0108 - mae: 0.0810\n",
      "Epoch 341/500\n",
      "224/224 [==============================] - 0s 1ms/step - loss: 0.0548 - mse: 0.0104 - mae: 0.0796\n",
      "Epoch 342/500\n",
      "224/224 [==============================] - 0s 1ms/step - loss: 0.0554 - mse: 0.0107 - mae: 0.0803\n",
      "Epoch 343/500\n",
      "224/224 [==============================] - 0s 1ms/step - loss: 0.0557 - mse: 0.0108 - mae: 0.0808\n",
      "Epoch 344/500\n",
      "224/224 [==============================] - 0s 1ms/step - loss: 0.0552 - mse: 0.0106 - mae: 0.0801\n",
      "Epoch 345/500\n",
      "224/224 [==============================] - 0s 1ms/step - loss: 0.0556 - mse: 0.0108 - mae: 0.0805\n",
      "Epoch 346/500\n",
      "224/224 [==============================] - 0s 1ms/step - loss: 0.0554 - mse: 0.0106 - mae: 0.0804\n",
      "Epoch 347/500\n",
      "224/224 [==============================] - 0s 1ms/step - loss: 0.0554 - mse: 0.0107 - mae: 0.0804\n",
      "Epoch 348/500\n",
      "224/224 [==============================] - 0s 1ms/step - loss: 0.0552 - mse: 0.0106 - mae: 0.0804\n",
      "Epoch 349/500\n",
      "224/224 [==============================] - 0s 1ms/step - loss: 0.0552 - mse: 0.0106 - mae: 0.0802\n",
      "Epoch 350/500\n",
      "224/224 [==============================] - 0s 1ms/step - loss: 0.0553 - mse: 0.0106 - mae: 0.0803\n",
      "Epoch 351/500\n",
      "224/224 [==============================] - 0s 1ms/step - loss: 0.0557 - mse: 0.0108 - mae: 0.0804\n",
      "Epoch 352/500\n",
      "224/224 [==============================] - 0s 1ms/step - loss: 0.0544 - mse: 0.0103 - mae: 0.0789\n",
      "Epoch 353/500\n",
      "224/224 [==============================] - 0s 1ms/step - loss: 0.0553 - mse: 0.0106 - mae: 0.0801\n",
      "Epoch 354/500\n",
      "224/224 [==============================] - 0s 1ms/step - loss: 0.0555 - mse: 0.0107 - mae: 0.0805\n",
      "Epoch 355/500\n",
      "224/224 [==============================] - 0s 2ms/step - loss: 0.0553 - mse: 0.0106 - mae: 0.0801\n",
      "Epoch 356/500\n",
      "224/224 [==============================] - 0s 1ms/step - loss: 0.0552 - mse: 0.0106 - mae: 0.0802\n",
      "Epoch 357/500\n",
      "224/224 [==============================] - 0s 1ms/step - loss: 0.0549 - mse: 0.0104 - mae: 0.0799\n",
      "Epoch 358/500\n",
      "224/224 [==============================] - 0s 1ms/step - loss: 0.0546 - mse: 0.0104 - mae: 0.0792\n",
      "Epoch 359/500\n",
      "224/224 [==============================] - 0s 1ms/step - loss: 0.0556 - mse: 0.0107 - mae: 0.0807\n",
      "Epoch 360/500\n",
      "224/224 [==============================] - 0s 2ms/step - loss: 0.0557 - mse: 0.0107 - mae: 0.0806\n",
      "Epoch 361/500\n",
      "224/224 [==============================] - 0s 1ms/step - loss: 0.0554 - mse: 0.0106 - mae: 0.0799\n",
      "Epoch 362/500\n",
      "224/224 [==============================] - 0s 1ms/step - loss: 0.0549 - mse: 0.0105 - mae: 0.0794\n",
      "Epoch 363/500\n",
      "224/224 [==============================] - 0s 1ms/step - loss: 0.0549 - mse: 0.0105 - mae: 0.0792\n",
      "Epoch 364/500\n",
      "224/224 [==============================] - 0s 1ms/step - loss: 0.0552 - mse: 0.0106 - mae: 0.0798\n",
      "Epoch 365/500\n",
      "224/224 [==============================] - 0s 1ms/step - loss: 0.0553 - mse: 0.0106 - mae: 0.0802\n",
      "Epoch 366/500\n",
      "224/224 [==============================] - 0s 1ms/step - loss: 0.0554 - mse: 0.0106 - mae: 0.0804\n",
      "Epoch 367/500\n",
      "224/224 [==============================] - 0s 1ms/step - loss: 0.0548 - mse: 0.0104 - mae: 0.0795\n",
      "Epoch 368/500\n",
      "224/224 [==============================] - 0s 1ms/step - loss: 0.0553 - mse: 0.0106 - mae: 0.0798\n",
      "Epoch 369/500\n",
      "224/224 [==============================] - 0s 1ms/step - loss: 0.0549 - mse: 0.0104 - mae: 0.0795\n",
      "Epoch 370/500\n",
      "224/224 [==============================] - 0s 1ms/step - loss: 0.0556 - mse: 0.0107 - mae: 0.0805\n",
      "Epoch 371/500\n",
      "224/224 [==============================] - 0s 2ms/step - loss: 0.0551 - mse: 0.0105 - mae: 0.0794\n",
      "Epoch 372/500\n",
      "224/224 [==============================] - 0s 2ms/step - loss: 0.0553 - mse: 0.0106 - mae: 0.0800\n",
      "Epoch 373/500\n",
      "224/224 [==============================] - 0s 1ms/step - loss: 0.0548 - mse: 0.0104 - mae: 0.0796\n",
      "Epoch 374/500\n",
      "224/224 [==============================] - 0s 1ms/step - loss: 0.0552 - mse: 0.0105 - mae: 0.0800\n",
      "Epoch 375/500\n",
      "224/224 [==============================] - 0s 1ms/step - loss: 0.0550 - mse: 0.0104 - mae: 0.0796\n",
      "Epoch 376/500\n",
      "224/224 [==============================] - 0s 1ms/step - loss: 0.0554 - mse: 0.0106 - mae: 0.0800\n",
      "Epoch 377/500\n",
      "224/224 [==============================] - 0s 1ms/step - loss: 0.0546 - mse: 0.0103 - mae: 0.0790\n",
      "Epoch 378/500\n",
      "224/224 [==============================] - 0s 1ms/step - loss: 0.0553 - mse: 0.0106 - mae: 0.0797\n",
      "Epoch 379/500\n",
      "224/224 [==============================] - 0s 1ms/step - loss: 0.0546 - mse: 0.0103 - mae: 0.0790\n",
      "Epoch 380/500\n",
      "224/224 [==============================] - 0s 1ms/step - loss: 0.0548 - mse: 0.0103 - mae: 0.0792\n",
      "Epoch 381/500\n",
      "224/224 [==============================] - 0s 1ms/step - loss: 0.0548 - mse: 0.0104 - mae: 0.0790\n",
      "Epoch 382/500\n",
      "224/224 [==============================] - 0s 1ms/step - loss: 0.0546 - mse: 0.0103 - mae: 0.0793\n",
      "Epoch 383/500\n",
      "224/224 [==============================] - 0s 1ms/step - loss: 0.0545 - mse: 0.0103 - mae: 0.0784\n",
      "Epoch 384/500\n",
      "224/224 [==============================] - 0s 1ms/step - loss: 0.0547 - mse: 0.0104 - mae: 0.0789\n",
      "Epoch 385/500\n",
      "224/224 [==============================] - 0s 1ms/step - loss: 0.0552 - mse: 0.0105 - mae: 0.0796\n",
      "Epoch 386/500\n",
      "224/224 [==============================] - 0s 2ms/step - loss: 0.0546 - mse: 0.0103 - mae: 0.0791\n",
      "Epoch 387/500\n",
      "224/224 [==============================] - 0s 1ms/step - loss: 0.0551 - mse: 0.0105 - mae: 0.0795\n",
      "Epoch 388/500\n",
      "224/224 [==============================] - 0s 1ms/step - loss: 0.0549 - mse: 0.0104 - mae: 0.0795\n",
      "Epoch 389/500\n",
      "224/224 [==============================] - 0s 2ms/step - loss: 0.0552 - mse: 0.0105 - mae: 0.0799\n",
      "Epoch 390/500\n",
      "224/224 [==============================] - 0s 1ms/step - loss: 0.0549 - mse: 0.0104 - mae: 0.0794\n",
      "Epoch 391/500\n",
      "224/224 [==============================] - 0s 1ms/step - loss: 0.0544 - mse: 0.0102 - mae: 0.0784\n",
      "Epoch 392/500\n",
      "224/224 [==============================] - 0s 1ms/step - loss: 0.0547 - mse: 0.0103 - mae: 0.0790\n",
      "Epoch 393/500\n",
      "224/224 [==============================] - 0s 2ms/step - loss: 0.0548 - mse: 0.0103 - mae: 0.0791\n",
      "Epoch 394/500\n",
      "224/224 [==============================] - 0s 1ms/step - loss: 0.0554 - mse: 0.0106 - mae: 0.0798\n",
      "Epoch 395/500\n",
      "224/224 [==============================] - 0s 1ms/step - loss: 0.0545 - mse: 0.0102 - mae: 0.0786\n",
      "Epoch 396/500\n",
      "224/224 [==============================] - 0s 1ms/step - loss: 0.0547 - mse: 0.0103 - mae: 0.0789\n",
      "Epoch 397/500\n",
      "224/224 [==============================] - 0s 1ms/step - loss: 0.0549 - mse: 0.0104 - mae: 0.0792\n",
      "Epoch 398/500\n",
      "224/224 [==============================] - 0s 1ms/step - loss: 0.0552 - mse: 0.0105 - mae: 0.0798\n",
      "Epoch 399/500\n",
      "224/224 [==============================] - 0s 1ms/step - loss: 0.0543 - mse: 0.0101 - mae: 0.0783\n",
      "Epoch 400/500\n",
      "224/224 [==============================] - 0s 2ms/step - loss: 0.0549 - mse: 0.0104 - mae: 0.0795\n",
      "Epoch 401/500\n",
      "224/224 [==============================] - 0s 2ms/step - loss: 0.0548 - mse: 0.0103 - mae: 0.0793\n",
      "Epoch 402/500\n",
      "224/224 [==============================] - 0s 1ms/step - loss: 0.0551 - mse: 0.0105 - mae: 0.0793\n",
      "Epoch 403/500\n",
      "224/224 [==============================] - 0s 1ms/step - loss: 0.0544 - mse: 0.0102 - mae: 0.0787\n",
      "Epoch 404/500\n",
      "224/224 [==============================] - 0s 1ms/step - loss: 0.0552 - mse: 0.0105 - mae: 0.0794\n",
      "Epoch 405/500\n",
      "224/224 [==============================] - 0s 1ms/step - loss: 0.0554 - mse: 0.0106 - mae: 0.0802\n",
      "Epoch 406/500\n",
      "224/224 [==============================] - 0s 1ms/step - loss: 0.0549 - mse: 0.0104 - mae: 0.0787\n",
      "Epoch 407/500\n",
      "224/224 [==============================] - 0s 1ms/step - loss: 0.0554 - mse: 0.0106 - mae: 0.0801\n",
      "Epoch 408/500\n",
      "224/224 [==============================] - 0s 1ms/step - loss: 0.0546 - mse: 0.0103 - mae: 0.0789\n",
      "Epoch 409/500\n",
      "224/224 [==============================] - 0s 2ms/step - loss: 0.0548 - mse: 0.0104 - mae: 0.0789\n",
      "Epoch 410/500\n",
      "224/224 [==============================] - 0s 1ms/step - loss: 0.0548 - mse: 0.0103 - mae: 0.0789\n",
      "Epoch 411/500\n",
      "224/224 [==============================] - 0s 1ms/step - loss: 0.0548 - mse: 0.0103 - mae: 0.0789\n",
      "Epoch 412/500\n",
      "224/224 [==============================] - 0s 1ms/step - loss: 0.0546 - mse: 0.0102 - mae: 0.0789\n",
      "Epoch 413/500\n",
      "224/224 [==============================] - 0s 1ms/step - loss: 0.0543 - mse: 0.0102 - mae: 0.0785\n",
      "Epoch 414/500\n",
      "224/224 [==============================] - 0s 1ms/step - loss: 0.0545 - mse: 0.0103 - mae: 0.0789\n",
      "Epoch 415/500\n",
      "224/224 [==============================] - 0s 1ms/step - loss: 0.0551 - mse: 0.0104 - mae: 0.0796\n",
      "Epoch 416/500\n",
      "224/224 [==============================] - 0s 1ms/step - loss: 0.0548 - mse: 0.0103 - mae: 0.0791\n",
      "Epoch 417/500\n",
      "224/224 [==============================] - 0s 1ms/step - loss: 0.0549 - mse: 0.0104 - mae: 0.0791\n",
      "Epoch 418/500\n",
      "224/224 [==============================] - 0s 1ms/step - loss: 0.0550 - mse: 0.0104 - mae: 0.0791\n",
      "Epoch 419/500\n",
      "224/224 [==============================] - 0s 2ms/step - loss: 0.0547 - mse: 0.0103 - mae: 0.0787\n",
      "Epoch 420/500\n",
      "224/224 [==============================] - 0s 1ms/step - loss: 0.0538 - mse: 0.0100 - mae: 0.0780\n",
      "Epoch 421/500\n",
      "224/224 [==============================] - 0s 1ms/step - loss: 0.0544 - mse: 0.0102 - mae: 0.0781\n",
      "Epoch 422/500\n",
      "224/224 [==============================] - 0s 1ms/step - loss: 0.0549 - mse: 0.0104 - mae: 0.0792\n",
      "Epoch 423/500\n",
      "224/224 [==============================] - 0s 1ms/step - loss: 0.0552 - mse: 0.0105 - mae: 0.0795\n",
      "Epoch 424/500\n",
      "224/224 [==============================] - 0s 1ms/step - loss: 0.0547 - mse: 0.0103 - mae: 0.0787\n",
      "Epoch 425/500\n",
      "224/224 [==============================] - 0s 1ms/step - loss: 0.0546 - mse: 0.0103 - mae: 0.0788\n",
      "Epoch 426/500\n",
      "224/224 [==============================] - 0s 1ms/step - loss: 0.0542 - mse: 0.0101 - mae: 0.0785\n",
      "Epoch 427/500\n",
      "224/224 [==============================] - 0s 2ms/step - loss: 0.0545 - mse: 0.0102 - mae: 0.0786\n",
      "Epoch 428/500\n",
      "224/224 [==============================] - 0s 1ms/step - loss: 0.0547 - mse: 0.0103 - mae: 0.0790\n",
      "Epoch 429/500\n",
      "224/224 [==============================] - 0s 1ms/step - loss: 0.0545 - mse: 0.0102 - mae: 0.0784\n",
      "Epoch 430/500\n",
      "224/224 [==============================] - 0s 1ms/step - loss: 0.0545 - mse: 0.0102 - mae: 0.0788\n",
      "Epoch 431/500\n",
      "224/224 [==============================] - 0s 1ms/step - loss: 0.0539 - mse: 0.0100 - mae: 0.0775\n",
      "Epoch 432/500\n",
      "224/224 [==============================] - 0s 1ms/step - loss: 0.0544 - mse: 0.0102 - mae: 0.0787\n",
      "Epoch 433/500\n",
      "224/224 [==============================] - 0s 1ms/step - loss: 0.0548 - mse: 0.0103 - mae: 0.0790\n",
      "Epoch 434/500\n",
      "224/224 [==============================] - 0s 1ms/step - loss: 0.0547 - mse: 0.0103 - mae: 0.0785\n",
      "Epoch 435/500\n",
      "224/224 [==============================] - 0s 1ms/step - loss: 0.0548 - mse: 0.0103 - mae: 0.0789\n",
      "Epoch 436/500\n",
      "224/224 [==============================] - 0s 1ms/step - loss: 0.0545 - mse: 0.0102 - mae: 0.0784\n",
      "Epoch 437/500\n",
      "224/224 [==============================] - 0s 1ms/step - loss: 0.0548 - mse: 0.0103 - mae: 0.0787\n",
      "Epoch 438/500\n",
      "224/224 [==============================] - 0s 1ms/step - loss: 0.0543 - mse: 0.0101 - mae: 0.0782\n",
      "Epoch 439/500\n",
      "224/224 [==============================] - 0s 1ms/step - loss: 0.0547 - mse: 0.0103 - mae: 0.0786\n",
      "Epoch 440/500\n",
      "224/224 [==============================] - 0s 2ms/step - loss: 0.0542 - mse: 0.0100 - mae: 0.0782\n",
      "Epoch 441/500\n",
      "224/224 [==============================] - 0s 1ms/step - loss: 0.0541 - mse: 0.0100 - mae: 0.0779\n",
      "Epoch 442/500\n",
      "224/224 [==============================] - 0s 1ms/step - loss: 0.0542 - mse: 0.0101 - mae: 0.0779\n",
      "Epoch 443/500\n",
      "224/224 [==============================] - 0s 1ms/step - loss: 0.0545 - mse: 0.0102 - mae: 0.0787\n",
      "Epoch 444/500\n",
      "224/224 [==============================] - 0s 1ms/step - loss: 0.0545 - mse: 0.0102 - mae: 0.0787\n",
      "Epoch 445/500\n",
      "224/224 [==============================] - 0s 1ms/step - loss: 0.0543 - mse: 0.0101 - mae: 0.0780\n",
      "Epoch 446/500\n",
      "224/224 [==============================] - 0s 1ms/step - loss: 0.0549 - mse: 0.0104 - mae: 0.0790\n",
      "Epoch 447/500\n",
      "224/224 [==============================] - 0s 1ms/step - loss: 0.0541 - mse: 0.0100 - mae: 0.0779\n",
      "Epoch 448/500\n",
      "224/224 [==============================] - 0s 1ms/step - loss: 0.0535 - mse: 0.0098 - mae: 0.0766\n",
      "Epoch 449/500\n",
      "224/224 [==============================] - 0s 1ms/step - loss: 0.0542 - mse: 0.0101 - mae: 0.0780\n",
      "Epoch 450/500\n",
      "224/224 [==============================] - 0s 2ms/step - loss: 0.0545 - mse: 0.0102 - mae: 0.0786\n",
      "Epoch 451/500\n",
      "224/224 [==============================] - 0s 1ms/step - loss: 0.0538 - mse: 0.0099 - mae: 0.0773\n",
      "Epoch 452/500\n",
      "224/224 [==============================] - 0s 1ms/step - loss: 0.0543 - mse: 0.0101 - mae: 0.0785\n",
      "Epoch 453/500\n",
      "224/224 [==============================] - 0s 1ms/step - loss: 0.0545 - mse: 0.0102 - mae: 0.0784\n",
      "Epoch 454/500\n",
      "224/224 [==============================] - 0s 1ms/step - loss: 0.0542 - mse: 0.0101 - mae: 0.0780\n",
      "Epoch 455/500\n",
      "224/224 [==============================] - 0s 1ms/step - loss: 0.0551 - mse: 0.0104 - mae: 0.0788\n",
      "Epoch 456/500\n",
      "224/224 [==============================] - 0s 1ms/step - loss: 0.0541 - mse: 0.0101 - mae: 0.0779\n",
      "Epoch 457/500\n",
      "224/224 [==============================] - 0s 1ms/step - loss: 0.0547 - mse: 0.0102 - mae: 0.0788\n",
      "Epoch 458/500\n",
      "224/224 [==============================] - 0s 2ms/step - loss: 0.0546 - mse: 0.0102 - mae: 0.0784\n",
      "Epoch 459/500\n",
      "224/224 [==============================] - 0s 1ms/step - loss: 0.0548 - mse: 0.0103 - mae: 0.0786\n",
      "Epoch 460/500\n",
      "224/224 [==============================] - 0s 1ms/step - loss: 0.0544 - mse: 0.0102 - mae: 0.0785\n",
      "Epoch 461/500\n",
      "224/224 [==============================] - 0s 1ms/step - loss: 0.0543 - mse: 0.0101 - mae: 0.0782\n",
      "Epoch 462/500\n",
      "224/224 [==============================] - 0s 1ms/step - loss: 0.0542 - mse: 0.0101 - mae: 0.0780\n",
      "Epoch 463/500\n",
      "224/224 [==============================] - 0s 2ms/step - loss: 0.0549 - mse: 0.0103 - mae: 0.0792\n",
      "Epoch 464/500\n",
      "224/224 [==============================] - 0s 2ms/step - loss: 0.0543 - mse: 0.0101 - mae: 0.0781\n",
      "Epoch 465/500\n",
      "224/224 [==============================] - 0s 1ms/step - loss: 0.0546 - mse: 0.0102 - mae: 0.0780\n",
      "Epoch 466/500\n",
      "224/224 [==============================] - 0s 1ms/step - loss: 0.0544 - mse: 0.0102 - mae: 0.0780\n",
      "Epoch 467/500\n",
      "224/224 [==============================] - 0s 1ms/step - loss: 0.0542 - mse: 0.0100 - mae: 0.0780\n",
      "Epoch 468/500\n",
      "224/224 [==============================] - 0s 1ms/step - loss: 0.0542 - mse: 0.0100 - mae: 0.0782\n",
      "Epoch 469/500\n",
      "224/224 [==============================] - 0s 1ms/step - loss: 0.0548 - mse: 0.0103 - mae: 0.0788\n",
      "Epoch 470/500\n",
      "224/224 [==============================] - 0s 1ms/step - loss: 0.0544 - mse: 0.0101 - mae: 0.0784\n",
      "Epoch 471/500\n",
      "224/224 [==============================] - 0s 1ms/step - loss: 0.0543 - mse: 0.0101 - mae: 0.0779\n",
      "Epoch 472/500\n",
      "224/224 [==============================] - 0s 1ms/step - loss: 0.0542 - mse: 0.0101 - mae: 0.0778\n",
      "Epoch 473/500\n",
      "224/224 [==============================] - 0s 1ms/step - loss: 0.0538 - mse: 0.0099 - mae: 0.0773\n",
      "Epoch 474/500\n",
      "224/224 [==============================] - 0s 1ms/step - loss: 0.0544 - mse: 0.0101 - mae: 0.0784\n",
      "Epoch 475/500\n",
      "224/224 [==============================] - 0s 1ms/step - loss: 0.0541 - mse: 0.0100 - mae: 0.0778\n",
      "Epoch 476/500\n",
      "224/224 [==============================] - 0s 1ms/step - loss: 0.0543 - mse: 0.0101 - mae: 0.0779\n",
      "Epoch 477/500\n",
      "224/224 [==============================] - 0s 1ms/step - loss: 0.0536 - mse: 0.0098 - mae: 0.0772\n",
      "Epoch 478/500\n",
      "224/224 [==============================] - 0s 1ms/step - loss: 0.0545 - mse: 0.0102 - mae: 0.0782\n",
      "Epoch 479/500\n",
      "224/224 [==============================] - 0s 2ms/step - loss: 0.0543 - mse: 0.0101 - mae: 0.0781\n",
      "Epoch 480/500\n",
      "224/224 [==============================] - 0s 1ms/step - loss: 0.0544 - mse: 0.0102 - mae: 0.0781\n",
      "Epoch 481/500\n",
      "224/224 [==============================] - 0s 1ms/step - loss: 0.0544 - mse: 0.0101 - mae: 0.0782\n",
      "Epoch 482/500\n",
      "224/224 [==============================] - 0s 1ms/step - loss: 0.0545 - mse: 0.0101 - mae: 0.0783\n",
      "Epoch 483/500\n",
      "224/224 [==============================] - 0s 1ms/step - loss: 0.0548 - mse: 0.0103 - mae: 0.0786\n",
      "Epoch 484/500\n",
      "224/224 [==============================] - 0s 1ms/step - loss: 0.0544 - mse: 0.0101 - mae: 0.0784\n",
      "Epoch 485/500\n",
      "224/224 [==============================] - 0s 2ms/step - loss: 0.0541 - mse: 0.0100 - mae: 0.0776\n",
      "Epoch 486/500\n",
      "224/224 [==============================] - 0s 1ms/step - loss: 0.0544 - mse: 0.0101 - mae: 0.0782\n",
      "Epoch 487/500\n",
      "224/224 [==============================] - 0s 1ms/step - loss: 0.0539 - mse: 0.0099 - mae: 0.0775\n",
      "Epoch 488/500\n",
      "224/224 [==============================] - 0s 2ms/step - loss: 0.0545 - mse: 0.0102 - mae: 0.0782\n",
      "Epoch 489/500\n",
      "224/224 [==============================] - 0s 1ms/step - loss: 0.0540 - mse: 0.0099 - mae: 0.0778\n",
      "Epoch 490/500\n",
      "224/224 [==============================] - 0s 1ms/step - loss: 0.0543 - mse: 0.0101 - mae: 0.0782\n",
      "Epoch 491/500\n",
      "224/224 [==============================] - 0s 1ms/step - loss: 0.0547 - mse: 0.0103 - mae: 0.0786\n",
      "Epoch 492/500\n",
      "224/224 [==============================] - 0s 1ms/step - loss: 0.0537 - mse: 0.0099 - mae: 0.0772\n",
      "Epoch 493/500\n",
      "224/224 [==============================] - 0s 1ms/step - loss: 0.0544 - mse: 0.0101 - mae: 0.0783\n",
      "Epoch 494/500\n",
      "224/224 [==============================] - 0s 1ms/step - loss: 0.0543 - mse: 0.0101 - mae: 0.0778\n",
      "Epoch 495/500\n",
      "224/224 [==============================] - 0s 1ms/step - loss: 0.0545 - mse: 0.0101 - mae: 0.0783\n",
      "Epoch 496/500\n",
      "224/224 [==============================] - 0s 1ms/step - loss: 0.0534 - mse: 0.0097 - mae: 0.0768\n",
      "Epoch 497/500\n",
      "224/224 [==============================] - 0s 1ms/step - loss: 0.0548 - mse: 0.0103 - mae: 0.0786\n",
      "Epoch 498/500\n",
      "224/224 [==============================] - 0s 2ms/step - loss: 0.0542 - mse: 0.0101 - mae: 0.0778\n",
      "Epoch 499/500\n",
      "224/224 [==============================] - 0s 1ms/step - loss: 0.0541 - mse: 0.0100 - mae: 0.0777\n",
      "Epoch 500/500\n",
      "224/224 [==============================] - 0s 2ms/step - loss: 0.0539 - mse: 0.0099 - mae: 0.0775\n"
     ]
    }
   ],
   "source": [
    "from tensorflow.keras.models import load_model\n",
    "\n",
    "my_weighted_loss = weighted_mcrmse_loss_factory([0.4, 0.6])\n",
    "\n",
    "custom_objects = {\n",
    "    'mcrmse_loss': mcrmse_loss,\n",
    "    'weighted_mcrmse_loss': my_weighted_loss\n",
    "}\n",
    "\n",
    "\n",
    "# Load the model\n",
    "\n",
    "\n",
    "final_model = tf.keras.models.load_model(\"best_standard_model.h5\", custom_objects=custom_objects)\n",
    "\n",
    "final_model.compile(optimizer='RMSprop', loss=my_weighted_loss, metrics=['mse', 'mae'])\n",
    "\n",
    "history = final_model.fit(\n",
    "    full_reg,\n",
    "    batch_size=32,\n",
    "    epochs=500,\n",
    "    callbacks= call_backs\n",
    ")\n"
   ]
  },
  {
   "cell_type": "code",
   "execution_count": 92,
   "id": "7725e570",
   "metadata": {},
   "outputs": [
    {
     "name": "stdout",
     "output_type": "stream",
     "text": [
      "63/63 [==============================] - 0s 1ms/step - loss: 0.0470 - mse: 0.0074 - mae: 0.0665\n",
      "Loss:  0.046971868723630905\n",
      "MSE:  0.007375395391136408\n",
      "MAE:  0.06647821515798569\n"
     ]
    }
   ],
   "source": [
    "loss, mse, mae = final_model.evaluate(val_reg)\n",
    "\n",
    "\n",
    "print(\"Loss: \", loss)\n",
    "print(\"MSE: \", mse)\n",
    "print(\"MAE: \", mae)\n"
   ]
  },
  {
   "cell_type": "code",
   "execution_count": 93,
   "id": "972c4036",
   "metadata": {},
   "outputs": [
    {
     "data": {
      "image/png": "[encoded data removed]",
      "text/plain": [
       "<Figure size 2000x500 with 3 Axes>"
      ]
     },
     "metadata": {},
     "output_type": "display_data"
    }
   ],
   "source": [
    "import matplotlib.pyplot as plt\n",
    "\n",
    "loss = history.history['loss']\n",
    "# val_loss = history.history['val_loss']\n",
    "mse = history.history['mse']\n",
    "# val_mse = history.history['val_mse']\n",
    "mae = history.history['mae']\n",
    "# val_mae = history.history['val_mae']\n",
    "\n",
    "\n",
    "\n",
    "fig , ax = plt.subplots(1,3, figsize=(20,5))\n",
    "\n",
    "ax[0].plot(loss, label='train', color='purple', linewidth=2.0, linestyle = '-')   # specify color and line width\n",
    "ax[0].set_title('loss')\n",
    "ax[0].set_xlabel('Epochs')   # set x label\n",
    "ax[0].set_ylabel('Loss')   # set y label\n",
    "ax[0].legend()\n",
    "\n",
    "ax[1].plot(mse, label='train', color='purple', linewidth=2.0, linestyle = '-')   # specify color and line width\n",
    "ax[1].set_title('mse')\n",
    "ax[1].set_xlabel('Epochs')   # set x label\n",
    "ax[1].set_ylabel('MSE')   # set y label\n",
    "ax[1].legend()\n",
    "\n",
    "ax[2].plot(mae, label='train', color='purple', linewidth=2.0, linestyle = '-')   # specify color and line width\n",
    "ax[2].set_title('mae')\n",
    "ax[2].set_xlabel('Epochs')   # set x label\n",
    "ax[2].set_ylabel('MAE')   # set y label\n",
    "ax[2].legend()\n",
    "\n",
    "plt.show()"
   ]
  },
  {
   "cell_type": "code",
   "execution_count": 94,
   "id": "3af9f508",
   "metadata": {},
   "outputs": [
    {
     "name": "stdout",
     "output_type": "stream",
     "text": [
      "63/63 [==============================] - 0s 1ms/step\n",
      " Mean Difference 0.036552422617745994 \n",
      "\n"
     ]
    },
    {
     "data": {
      "text/plain": [
       "<matplotlib.collections.PathCollection at 0x7f2022e10550>"
      ]
     },
     "execution_count": 94,
     "metadata": {},
     "output_type": "execute_result"
    },
    {
     "data": {
      "image/png": "[encoded data removed]",
      "text/plain": [
       "<Figure size 640x480 with 1 Axes>"
      ]
     },
     "metadata": {},
     "output_type": "display_data"
    }
   ],
   "source": [
    "predictions = final_model.predict(val_features)\n",
    "predictions = target_scaler.inverse_transform(predictions)\n",
    "\n",
    "true = validation_labels\n",
    "true = target_scaler.inverse_transform(true)\n",
    "\n",
    "mean_diff = np.mean(true - predictions)\n",
    "print(f' Mean Difference {mean_diff} \\n')\n",
    "\n",
    "plt.scatter(true, predictions)"
   ]
  },
  {
   "cell_type": "code",
   "execution_count": null,
   "id": "5023cc34",
   "metadata": {},
   "outputs": [],
   "source": []
  }
 ],
 "metadata": {
  "kernelspec": {
   "display_name": "commonlit",
   "language": "python",
   "name": "python3"
  },
  "language_info": {
   "codemirror_mode": {
    "name": "ipython",
    "version": 3
   },
   "file_extension": ".py",
   "mimetype": "text/x-python",
   "name": "python",
   "nbconvert_exporter": "python",
   "pygments_lexer": "ipython3",
   "version": "3.10.12"
  }
 },
 "nbformat": 4,
 "nbformat_minor": 5
}
